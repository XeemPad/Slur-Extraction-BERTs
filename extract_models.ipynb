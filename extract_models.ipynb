{
 "cells": [
  {
   "cell_type": "markdown",
   "id": "85ec1d1d",
   "metadata": {
    "id": "55029acc",
    "papermill": {
     "duration": 0.011368,
     "end_time": "2025-06-11T20:48:15.532799",
     "exception": false,
     "start_time": "2025-06-11T20:48:15.521431",
     "status": "completed"
    },
    "tags": []
   },
   "source": [
    "# Задача извлечения нецензурной лексики из текста"
   ]
  },
  {
   "cell_type": "markdown",
   "id": "caf1fc95",
   "metadata": {
    "id": "b6c87abf",
    "papermill": {
     "duration": 0.00959,
     "end_time": "2025-06-11T20:48:15.552421",
     "exception": false,
     "start_time": "2025-06-11T20:48:15.542831",
     "status": "completed"
    },
    "tags": []
   },
   "source": [
    "### Импорт библиотек"
   ]
  },
  {
   "cell_type": "code",
   "execution_count": 2,
   "id": "36d805e3",
   "metadata": {
    "execution": {
     "iopub.execute_input": "2025-06-11T20:48:15.572734Z",
     "iopub.status.busy": "2025-06-11T20:48:15.572498Z",
     "iopub.status.idle": "2025-06-11T20:48:46.293606Z",
     "shell.execute_reply": "2025-06-11T20:48:46.292990Z"
    },
    "id": "387de762",
    "papermill": {
     "duration": 30.732758,
     "end_time": "2025-06-11T20:48:46.294913",
     "exception": false,
     "start_time": "2025-06-11T20:48:15.562155",
     "status": "completed"
    },
    "tags": []
   },
   "outputs": [],
   "source": [
    "import pandas as pd\n",
    "import numpy as np\n",
    "\n",
    "from pathlib import Path\n",
    "import os\n",
    "\n",
    "from concurrent.futures import ProcessPoolExecutor, as_completed\n",
    "\n",
    "from typing import List, Set\n",
    "\n",
    "from sklearn.pipeline import Pipeline\n",
    "from sklearn.model_selection import train_test_split\n",
    "import torch\n",
    "\n",
    "seed = 42\n",
    "np.random.seed(seed)"
   ]
  },
  {
   "cell_type": "markdown",
   "id": "9a26ca55",
   "metadata": {},
   "source": [
    "### Импорт моделей"
   ]
  },
  {
   "cell_type": "code",
   "execution_count": null,
   "id": "02afa99d",
   "metadata": {},
   "outputs": [],
   "source": [
    "# Data preprocessing\n",
    "from models.data_preprocessor import SlurDataPreprocessor, SlurDataset\n",
    "# Baselines\n",
    "from models.dictionary_extractor import DictionaryExtractor\n",
    "from models.regex_extractor import RegexExtractor\n",
    "# BERT-based models\n",
    "from models.transformer_extractor import (\n",
    "    RuBertSlurExtractor,\n",
    "    RoSBertaSlurExtractor,\n",
    ")"
   ]
  },
  {
   "cell_type": "markdown",
   "id": "0fda8d52",
   "metadata": {
    "_kg_hide-input": false,
    "id": "34ce14fb",
    "papermill": {
     "duration": 0.009801,
     "end_time": "2025-06-11T20:48:46.365232",
     "exception": false,
     "start_time": "2025-06-11T20:48:46.355431",
     "status": "completed"
    },
    "tags": []
   },
   "source": [
    "# Извлечение и анализ данных"
   ]
  },
  {
   "cell_type": "markdown",
   "id": "03e7d604",
   "metadata": {},
   "source": [
    "## Загрузка данных"
   ]
  },
  {
   "cell_type": "code",
   "execution_count": null,
   "id": "a6947719",
   "metadata": {
    "execution": {
     "iopub.execute_input": "2025-06-11T20:48:46.387214Z",
     "iopub.status.busy": "2025-06-11T20:48:46.386616Z",
     "iopub.status.idle": "2025-06-11T20:48:48.167607Z",
     "shell.execute_reply": "2025-06-11T20:48:48.166960Z"
    },
    "id": "afa0e2b1",
    "papermill": {
     "duration": 1.793644,
     "end_time": "2025-06-11T20:48:48.169026",
     "exception": false,
     "start_time": "2025-06-11T20:48:46.375382",
     "status": "completed"
    },
    "tags": []
   },
   "outputs": [],
   "source": [
    "data_dir = Path(\"data\")\n",
    "output_dir = Path(\"./\")\n",
    "\n",
    "train_df = pd.read_csv(data_dir / \"train.csv\")\n",
    "test_df = pd.read_csv(data_dir / \"test.csv\")"
   ]
  },
  {
   "cell_type": "markdown",
   "id": "8fd9d21c",
   "metadata": {},
   "source": [
    "### Словарь матов"
   ]
  },
  {
   "cell_type": "code",
   "execution_count": null,
   "id": "8972c357",
   "metadata": {},
   "outputs": [],
   "source": [
    "with open(data_dir / \"ru_curse_words.txt\", 'r', encoding='utf-8') as f:\n",
    "    curse_words = set(word.strip().lower() for word in f.readlines() \n",
    "                      if word.strip())"
   ]
  },
  {
   "cell_type": "code",
   "execution_count": null,
   "id": "cfeb1171",
   "metadata": {},
   "outputs": [],
   "source": [
    "# Расширение словаря матами из train данных\n",
    "def extract_words_from_labels(df, label_col='labels') -> Set[str]:\n",
    "    \"\"\"Извлекает все уникальные слова из столбца labels\"\"\"\n",
    "    slurs = set()\n",
    "    \n",
    "    slur_strs = df[label_col].dropna()\n",
    "    slurs = set(slur for slurs in slur_strs for slur in slurs.strip().split(',') if slur)\n",
    "    \n",
    "    return slurs"
   ]
  },
  {
   "cell_type": "markdown",
   "id": "983c055d",
   "metadata": {},
   "source": [
    "Дополнение словаря матов из train данных"
   ]
  },
  {
   "cell_type": "code",
   "execution_count": null,
   "id": "b564327d",
   "metadata": {},
   "outputs": [
    {
     "name": "stdout",
     "output_type": "stream",
     "text": [
      "Примеры из train: ['пизджак', 'задолбала', 'хуйня ебаная;', 'хуёвая', 'ахуенн*я', 'ебланы', 'уебали', 'на*бщиков', 'с*** б****', 'ахун']\n",
      "\n",
      "Расширенный словарь:\n",
      "Исходный словарь: 2297 слов\n",
      "Найдено матов в train данных: 3687 слов\n",
      "Итоговый словарь: 5713 слов\n",
      "Добавлено новых слов: 3416\n"
     ]
    }
   ],
   "source": [
    "train_curse_words = extract_words_from_labels(train_df, 'label')\n",
    "print(f\"Примеры из train: {list(train_curse_words)[:10]}\")\n",
    "\n",
    "# Объединяем словари\n",
    "ext_curse_words = curse_words.union(train_curse_words)\n",
    "print(f\"\\nРасширенный словарь:\")\n",
    "print(f\"Исходный словарь: {len(curse_words)} слов\")\n",
    "print(f\"Найдено матов в train данных: {len(train_curse_words)} слов\")\n",
    "print(f\"Итоговый словарь: {len(ext_curse_words)} слов\")\n",
    "print(f\"Добавлено новых слов: {len(ext_curse_words) - len(curse_words)}\")\n"
   ]
  },
  {
   "cell_type": "markdown",
   "id": "e206d4c7",
   "metadata": {},
   "source": [
    "## Анализ и разбиение данных"
   ]
  },
  {
   "cell_type": "code",
   "execution_count": null,
   "id": "ac6724eb",
   "metadata": {},
   "outputs": [
    {
     "name": "stdout",
     "output_type": "stream",
     "text": [
      "Train: (244739, 3)\n",
      "Test: (66949, 2)\n"
     ]
    }
   ],
   "source": [
    "print(f\"Train: {train_df.shape}\")\n",
    "print(f\"Test: {test_df.shape}\")"
   ]
  },
  {
   "cell_type": "markdown",
   "id": "1921804e",
   "metadata": {},
   "source": [
    "### Анализ матов"
   ]
  },
  {
   "cell_type": "code",
   "execution_count": null,
   "id": "3d915029",
   "metadata": {},
   "outputs": [
    {
     "name": "stdout",
     "output_type": "stream",
     "text": [
      "Анализ поля 'label':\n",
      "Всего записей: 244739\n",
      "Пустых значений: 209888\n",
      "\n",
      "Статистика количества матов в ответе:\n",
      "count    244739.000000\n",
      "mean          0.162965\n",
      "std           0.442486\n",
      "min           0.000000\n",
      "25%           0.000000\n",
      "50%           0.000000\n",
      "75%           0.000000\n",
      "max          16.000000\n",
      "Name: label, dtype: float64\n"
     ]
    }
   ],
   "source": [
    "print(\"Анализ поля 'label':\")\n",
    "\n",
    "train_df['has_slur'] = train_df['label'].notna() & (train_df['label'].str.strip() != '')\n",
    "print(f\"Доля строк с матами: {train_df['has_slur'].mean():.1%}\")\n",
    "\n",
    "# Статистика по количеству матов в отзыве\n",
    "slur_lengths = train_df['label'].map(lambda x: len(str(x).split(',')) if pd.notna(x) and str(x) != '' else 0)\n",
    "print(f\"\\nСтатистика количества матов в отзыве:\")\n",
    "print(slur_lengths.describe())"
   ]
  },
  {
   "cell_type": "markdown",
   "id": "499a1c74",
   "metadata": {
    "id": "e1c84dce",
    "papermill": {
     "duration": 0.009933,
     "end_time": "2025-06-11T20:48:48.189589",
     "exception": false,
     "start_time": "2025-06-11T20:48:48.179656",
     "status": "completed"
    },
    "tags": []
   },
   "source": [
    "### Разбиение на X и Y"
   ]
  },
  {
   "cell_type": "code",
   "execution_count": null,
   "id": "e4dfba06",
   "metadata": {
    "execution": {
     "iopub.execute_input": "2025-06-11T20:48:48.210853Z",
     "iopub.status.busy": "2025-06-11T20:48:48.210212Z",
     "iopub.status.idle": "2025-06-11T20:48:48.331922Z",
     "shell.execute_reply": "2025-06-11T20:48:48.331070Z"
    },
    "id": "5da75f5a",
    "outputId": "69032061-3b60-4ef7-d78b-63ce9e20491c",
    "papermill": {
     "duration": 0.133406,
     "end_time": "2025-06-11T20:48:48.333205",
     "exception": false,
     "start_time": "2025-06-11T20:48:48.199799",
     "status": "completed"
    },
    "tags": []
   },
   "outputs": [
    {
     "name": "stdout",
     "output_type": "stream",
     "text": [
      "Train : (220265,) (220265,)\n",
      "Validation : (24474,) (24474,)\n",
      "\n",
      "Распределение классов в train: label\n",
      "говно                 4623\n",
      "херня                 2094\n",
      "гавно                 2062\n",
      "дерьмо                1694\n",
      "хуйня                  882\n",
      "                      ... \n",
      "коноёбило                1\n",
      "уёбищная,говно           1\n",
      "бляя,бляб,блят,бля       1\n",
      "заебали,нехуя,хуя        1\n",
      "хуйовое                  1\n",
      "Name: count, Length: 4521, dtype: int64\n",
      "Распределение классов в val: label\n",
      "говно                        523\n",
      "гавно                        230\n",
      "херня                        223\n",
      "дерьмо                       190\n",
      "хуйня                         95\n",
      "                            ... \n",
      "въебали                        1\n",
      "заклейте себе очко,ебучий      1\n",
      "хуйнч                          1\n",
      "ахуеннн                        1\n",
      "задолбались                    1\n",
      "Name: count, Length: 934, dtype: int64\n"
     ]
    }
   ],
   "source": [
    "target_column = \"label\"\n",
    "\n",
    "val_size = 0.1  # 0.1 так как есть ещё тестовый датасет\n",
    "X_train, X_val, y_train, y_val = train_test_split(\n",
    "    train_df['text'],\n",
    "    train_df[target_column],\n",
    "    test_size=val_size,\n",
    "    random_state=seed\n",
    ")\n",
    "\n",
    "print(f\"Train : {X_train.shape} {y_train.shape}\")\n",
    "print(f\"Validation : {X_val.shape} {y_val.shape}\")\n",
    "print(f\"\\nРаспределение классов в train: {y_train.value_counts()}\")\n",
    "print(f\"Распределение классов в val: {y_val.value_counts()}\")"
   ]
  },
  {
   "cell_type": "markdown",
   "id": "7e12c3a6",
   "metadata": {
    "id": "eaf1ca5a",
    "papermill": {
     "duration": 0.009796,
     "end_time": "2025-06-11T20:48:48.353402",
     "exception": false,
     "start_time": "2025-06-11T20:48:48.343606",
     "status": "completed"
    },
    "tags": []
   },
   "source": [
    "### Просмотр данных"
   ]
  },
  {
   "cell_type": "code",
   "execution_count": null,
   "id": "6b430892",
   "metadata": {
    "execution": {
     "iopub.execute_input": "2025-06-11T20:48:48.401955Z",
     "iopub.status.busy": "2025-06-11T20:48:48.401759Z",
     "iopub.status.idle": "2025-06-11T20:48:48.433831Z",
     "shell.execute_reply": "2025-06-11T20:48:48.433226Z"
    },
    "id": "4ef2ad7a",
    "outputId": "293adf00-6703-4d44-ec6e-21f57b064e4b",
    "papermill": {
     "duration": 0.043539,
     "end_time": "2025-06-11T20:48:48.434781",
     "exception": false,
     "start_time": "2025-06-11T20:48:48.391242",
     "status": "completed"
    },
    "tags": []
   },
   "outputs": [],
   "source": [
    "pd.set_option('display.max_colwidth', None)  # Показать полную ширину колонок\n",
    "pd.set_option('display.width', None)  # Убрать ограничение по ширине\n",
    "\n",
    "# Извлечём первые 10 строк с непустым label\n",
    "train_df[train_df['label'].notna()].set_index('ID').head(10)"
   ]
  },
  {
   "cell_type": "markdown",
   "id": "cb5bf5d4",
   "metadata": {
    "id": "1c45776b",
    "papermill": {
     "duration": 0.010462,
     "end_time": "2025-06-11T20:48:48.488360",
     "exception": false,
     "start_time": "2025-06-11T20:48:48.477898",
     "status": "completed"
    },
    "tags": []
   },
   "source": [
    "# Бейслайны"
   ]
  },
  {
   "cell_type": "markdown",
   "id": "7a2e8d90",
   "metadata": {},
   "source": [
    "## Словарный поиск"
   ]
  },
  {
   "cell_type": "code",
   "execution_count": null,
   "id": "939713ce",
   "metadata": {},
   "outputs": [],
   "source": [
    "SRCH_METHODS = DictionaryExtractor.SRCH_METHODS\n",
    "\n",
    "\n",
    "def eval_levenst(dist):\n",
    "    model = DictionaryExtractor(ext_curse_words, method=SRCH_METHODS.levenshtein, allowed_dist=dist)\n",
    "    model.fit(X_train[:5000], y_train[:5000])\n",
    "    model.evaluate(X_val[:1000], y_val[:1000], name=f\"Levenshtein (dist={dist})\")\n",
    "\n",
    "\n",
    "def test_dict_extractor_params():\n",
    "    \"\"\"Проверка работы с различными параметрами\"\"\"\n",
    "    for method in SRCH_METHODS._fields:\n",
    "        extractor = DictionaryExtractor(ext_curse_words, method=method)\n",
    "\n",
    "        if method == SRCH_METHODS.levenshtein:\n",
    "            # Для levenshtein нужно задать допустимое расстояние\n",
    "            distances = list(np.arange(0.5, 5, 0.5))\n",
    "            cpu_count = max(os.cpu_count() - 2, 1)\n",
    "            print(\"Using {} cores\".format(cpu_count))\n",
    "            with ProcessPoolExecutor(10) as executor:\n",
    "                future_to_dist = {executor.submit(eval_levenst, dist): dist for dist in distances}\n",
    "                \n",
    "        else:\n",
    "            extractor.fit(X_train, y_train)\n",
    "            print(f\"Testing {method}\\n\")\n",
    "            extractor.evaluate(X_val[:1000], y_val[:1000])\n",
    "\n",
    "        print('-' * 40)"
   ]
  },
  {
   "cell_type": "code",
   "execution_count": null,
   "id": "108f5376",
   "metadata": {},
   "outputs": [],
   "source": [
    "# test_dict_extractor_params()"
   ]
  },
  {
   "cell_type": "markdown",
   "id": "8743a9dd",
   "metadata": {},
   "source": [
    "Фактически метод **точного совпадения** показывает лучшие результаты (3.03). Его возьмём в качестве бейслайна"
   ]
  },
  {
   "cell_type": "code",
   "execution_count": null,
   "id": "aa210400",
   "metadata": {},
   "outputs": [],
   "source": [
    "dict_model = DictionaryExtractor(ext_curse_words, method=SRCH_METHODS.match)\n",
    "_ = dict_model.fit(X_train, y_train)"
   ]
  },
  {
   "cell_type": "code",
   "execution_count": null,
   "id": "00a0e1e8",
   "metadata": {},
   "outputs": [
    {
     "name": "stderr",
     "output_type": "stream",
     "text": [
      "Evaluating Exact match DictionaryExtractor: 100%|██████████| 24474/24474 [00:00<00:00, 1364990.71it/s]"
     ]
    },
    {
     "name": "stdout",
     "output_type": "stream",
     "text": [
      "Exact match DictionaryExtractor - Average Levenshtein Distance: 3.0819\n"
     ]
    },
    {
     "name": "stderr",
     "output_type": "stream",
     "text": [
      "\n"
     ]
    }
   ],
   "source": [
    "_ = dict_model.evaluate(X_val, y_val, name=f\"Exact match DictionaryExtractor\")"
   ]
  },
  {
   "cell_type": "markdown",
   "id": "f64c8f06",
   "metadata": {},
   "source": [
    "## Поиск с регулярными выражениями"
   ]
  },
  {
   "cell_type": "code",
   "execution_count": null,
   "id": "fb59d787",
   "metadata": {},
   "outputs": [],
   "source": [
    "regex_extractor = RegexExtractor(ext_curse_words)\n",
    "# _ = regex_extractor.fit(X_train, y_train)R"
   ]
  },
  {
   "cell_type": "code",
   "execution_count": null,
   "id": "a38f69bc",
   "metadata": {},
   "outputs": [],
   "source": [
    "# predictions = regex_extractor.transform(X_val)"
   ]
  },
  {
   "cell_type": "code",
   "execution_count": null,
   "id": "708dbfb3",
   "metadata": {},
   "outputs": [
    {
     "data": {
      "text/plain": [
       "'\\n20 минут. Avg Levenshtein: 671.8156\\n'"
      ]
     },
     "execution_count": 17,
     "metadata": {},
     "output_type": "execute_result"
    }
   ],
   "source": [
    "'''\n",
    "20 минут. Avg Levenshtein: 671.8156\n",
    "'''\n",
    "# _ = regex_extractor.evaluate(predicts=predictions, true_slurs=y_val, name=\"RegexExtractor\")"
   ]
  },
  {
   "cell_type": "markdown",
   "id": "8a9d38dc",
   "metadata": {},
   "source": [
    "# Пайплайн"
   ]
  },
  {
   "cell_type": "code",
   "execution_count": null,
   "id": "540244df",
   "metadata": {},
   "outputs": [],
   "source": [
    "class SlurPipeline:\n",
    "    def __init__(self, model_class, output_dir, **model_kwargs):\n",
    "        self.model_class = model_class\n",
    "        self.output_dir = output_dir\n",
    "        self.model_kwargs = model_kwargs\n",
    "\n",
    "        train_args = {\n",
    "            'batch_size': model_kwargs.pop('batch_size', 32),\n",
    "            'epochs': model_kwargs.pop('epochs', 3),\n",
    "            'learning_rate': model_kwargs.pop('learning_rate', 1e-5),\n",
    "            'warmup_steps': model_kwargs.pop('warmup_steps', 200),\n",
    "            'weight_decay': model_kwargs.pop('weight_decay', 0.01),\n",
    "            'logging_steps': model_kwargs.pop('logging_steps', 50),\n",
    "            'grad_accum_steps': model_kwargs.pop('grad_accum_steps', 1),\n",
    "            'max_length': model_kwargs.pop('max_length', 128),\n",
    "        }\n",
    "\n",
    "        # Создаем модель для получения токенизатора\n",
    "        self.model = model_class(output_dir=output_dir, train_args=train_args, **model_kwargs)\n",
    "        self.preprocessor = SlurDataPreprocessor(max_length=train_args['max_length'], verbose=True)\n",
    "\n",
    "    def fit(self, X, y):\n",
    "        \"\"\"Обучение\"\"\"\n",
    "        # Подготавливаем данные\n",
    "        if hasattr(X, 'values'):\n",
    "            texts = X.values.tolist()\n",
    "        else:\n",
    "            texts = list(X)\n",
    "\n",
    "        if hasattr(y, 'values'):\n",
    "            labels = y.values.tolist()\n",
    "        else:\n",
    "            labels = list(y)\n",
    "\n",
    "        # Создаем training data\n",
    "        training_data = self.preprocessor.prepare_training_data(\n",
    "            texts, labels, self.model.tokenizer\n",
    "        )\n",
    "\n",
    "        # разбиваем на два списка\n",
    "        texts_l = [d['text']  for d in training_data]\n",
    "        spans_l = [d['spans'] for d in training_data]\n",
    "\n",
    "        # Обучаем\n",
    "        self.model.fit(texts_l, spans_l)\n",
    "\n",
    "        return self\n",
    "\n",
    "    def predict(self, X):\n",
    "        \"\"\"Предсказание\"\"\"\n",
    "        if hasattr(X, 'values'):\n",
    "            texts = X.values.tolist()\n",
    "        else:\n",
    "            texts = list(X)\n",
    "\n",
    "        return self.model.transform(texts)\n",
    "\n",
    "    def transform(self, X):\n",
    "        return self.predict(X)\n",
    "\n",
    "    def evaluate(self, y_pred, y_true, name=None):\n",
    "        model_name = name if name else self.model.__class__.__name__\n",
    "        return self.model.evaluate(predicts=y_pred, true_slurs=y_true, name=model_name)"
   ]
  },
  {
   "cell_type": "markdown",
   "id": "d2489515",
   "metadata": {},
   "source": [
    "# Модели"
   ]
  },
  {
   "cell_type": "markdown",
   "id": "b49ee5cc",
   "metadata": {},
   "source": [
    "## RuBERT"
   ]
  },
  {
   "cell_type": "code",
   "execution_count": null,
   "id": "fc3c3887",
   "metadata": {},
   "outputs": [],
   "source": [
    "# rubert_pipeline = SlurPipeline(\n",
    "#     RuBertSlurExtractor,\n",
    "#     output_dir=\"rubert_extractor\",\n",
    "#     batch_size=64,\n",
    "# )"
   ]
  },
  {
   "cell_type": "code",
   "execution_count": null,
   "id": "6fc4201d",
   "metadata": {},
   "outputs": [],
   "source": [
    "# _ = rubert_pipeline.fit(X_train[:50000], y_train[:50000])"
   ]
  },
  {
   "cell_type": "code",
   "execution_count": null,
   "id": "cc630d46",
   "metadata": {},
   "outputs": [],
   "source": [
    "# val_samples_k = 10000\n",
    "# predictions = rubert_pipeline.transform(X_val[:val_samples_k])"
   ]
  },
  {
   "cell_type": "markdown",
   "id": "95857fe7",
   "metadata": {},
   "source": [
    "## RoSBERTa"
   ]
  },
  {
   "cell_type": "code",
   "execution_count": null,
   "id": "a22745a0",
   "metadata": {},
   "outputs": [],
   "source": [
    "rosberta_pipeline = SlurPipeline(\n",
    "    RoSBertaSlurExtractor,\n",
    "    output_dir=output_dir / \"rosberta_extractor\",\n",
    "    batch_size=32,\n",
    "    epochs=2,\n",
    "    learning_rate=2e-5,\n",
    "    grad_accum_steps=2,\n",
    "    warmup_steps=200\n",
    ")"
   ]
  },
  {
   "cell_type": "code",
   "execution_count": null,
   "id": "ab09da69",
   "metadata": {},
   "outputs": [],
   "source": [
    "rosberta_pipeline.fit(X_train, y_train)"
   ]
  },
  {
   "cell_type": "code",
   "execution_count": null,
   "id": "f778a30d",
   "metadata": {},
   "outputs": [],
   "source": [
    "val_samples_k = 50\n",
    "predictions = rosberta_pipeline.transform(X_val[:val_samples_k])"
   ]
  },
  {
   "cell_type": "markdown",
   "id": "6b05abe5",
   "metadata": {},
   "source": [
    "Посмотрим на примеры предсказаний"
   ]
  },
  {
   "cell_type": "code",
   "execution_count": null,
   "id": "2fb00dd5",
   "metadata": {},
   "outputs": [],
   "source": [
    "comp = pd.DataFrame({'Text': X_val[:val_samples_k], 'Prediction': predictions, 'True': y_val[:val_samples_k].values})\n",
    "comp[comp['Prediction'] != ''][:10]"
   ]
  },
  {
   "cell_type": "code",
   "execution_count": null,
   "id": "5e8bc1fc",
   "metadata": {},
   "outputs": [],
   "source": [
    "rosberta_pipeline.evaluate(y_pred=predictions, y_true=y_val[:val_samples_k], name='RoSBERTa')"
   ]
  },
  {
   "cell_type": "markdown",
   "id": "df99cfe4",
   "metadata": {},
   "source": [
    "## IlyaGusev's RuBERT toxic editor"
   ]
  },
  {
   "cell_type": "code",
   "execution_count": null,
   "id": "dc42d3e8",
   "metadata": {},
   "outputs": [],
   "source": [
    "# gusev_rb_pipeline = SlurPipeline(\n",
    "#     RuBertLoRASlurExtractor,\n",
    "#     output_dir=output_dir / \"gusev_rubert_extractor\",\n",
    "#     batch_size=32,\n",
    "#     epochs=2,\n",
    "#     learning_rate=2e-5,\n",
    "#     grad_accum_steps=2,\n",
    "#     warmup_steps=200\n",
    "# )"
   ]
  },
  {
   "cell_type": "code",
   "execution_count": null,
   "id": "b97e7bdc",
   "metadata": {},
   "outputs": [],
   "source": [
    "# _ = gusev_rb_pipeline.fit(X_train[:50], y_train[:50])"
   ]
  },
  {
   "cell_type": "code",
   "execution_count": null,
   "id": "751b8594",
   "metadata": {},
   "outputs": [],
   "source": [
    "# val_samples_k = 5000\n",
    "# predictions = gusev_rb_pipeline.transform(X_val[:val_samples_k])"
   ]
  },
  {
   "cell_type": "code",
   "execution_count": null,
   "id": "fcb9b39f",
   "metadata": {},
   "outputs": [],
   "source": [
    "# comp = pd.DataFrame({'Text': X_val[:val_samples_k], 'Prediction': predictions, 'True': y_val[:val_samples_k].values})\n",
    "# comp[comp['Prediction'] != ''][:10]"
   ]
  },
  {
   "cell_type": "markdown",
   "id": "9abe5c7c",
   "metadata": {},
   "source": [
    "# Выгрузка решения"
   ]
  },
  {
   "cell_type": "code",
   "execution_count": null,
   "id": "5ad2e58c",
   "metadata": {},
   "outputs": [],
   "source": [
    "def create_submission(model, test_data, filename=\"submission.csv\"):\n",
    "    \"\"\"\n",
    "    Создает файл submission для отправки результатов\n",
    "\n",
    "    Args:\n",
    "        model: обученная модель с методом predict\n",
    "        test_data: DataFrame с тестовыми данными\n",
    "        filename: имя файла для сохранения\n",
    "    \"\"\"\n",
    "\n",
    "    # Получаем предсказания на тестовых данных\n",
    "    test_predictions = model.predict(test_data['text'])\n",
    "\n",
    "    # Создаем DataFrame для submission\n",
    "    submission = pd.DataFrame({\n",
    "        'ID': test_data['ID'],  # Используем ID из тестовых данных\n",
    "        'label': test_predictions\n",
    "    })\n",
    "\n",
    "    # Сохраняем файл\n",
    "    submission.to_csv(filename, index=False)\n",
    "\n",
    "    print(f\"Файл {filename} создан!\")\n",
    "    print(f\"Размер: {submission.shape}\")\n",
    "    print(f\"Распределение предсказаний:\")\n",
    "    print(submission['label'].value_counts().sort_index())\n",
    "    print(f\"\\nПример submission:\")\n",
    "    print(submission.head(10))\n",
    "\n",
    "    return submission\n"
   ]
  },
  {
   "cell_type": "code",
   "execution_count": null,
   "id": "98e3ea7c",
   "metadata": {},
   "outputs": [],
   "source": [
    "# submission = create_submission(\n",
    "#     model=rosberta_pipeline,\n",
    "#     test_data=test_df[:50],\n",
    "#     filename=output_dir / \"RoSBERTa_v2.7_submission.csv\"\n",
    "# )"
   ]
  },
  {
   "cell_type": "markdown",
   "id": "05beb83b",
   "metadata": {},
   "source": [
    "## Сохранение/загрузка модели"
   ]
  },
  {
   "cell_type": "code",
   "execution_count": null,
   "id": "f99da2ba",
   "metadata": {},
   "outputs": [],
   "source": [
    "import torch\n",
    "from pathlib import Path\n",
    "\n",
    "\n",
    "def save_model(pipeline, model_name, save_dir=\"saved_models\"):\n",
    "    save_path = Path(save_dir) / model_name\n",
    "    save_path.mkdir(parents=True, exist_ok=True)\n",
    "\n",
    "    print(f\"Сохраняем модель {model_name} в {save_path}\")\n",
    "    trainer = pipeline.model.trainer\n",
    "\n",
    "    torch.save({\n",
    "        'model_state_dict': trainer.model.state_dict(),\n",
    "    }, save_path / \"trainer_state.pt\")\n",
    "\n",
    "    print(\"Модель сохранена:\")\n",
    "\n",
    "    return save_path\n",
    "\n",
    "def load_checkpoint(save_path, filename=\"trainer_state.pt\"):\n",
    "    save_path = Path(save_path)\n",
    "\n",
    "    print(\"Загружаем чекпоинт\")\n",
    "\n",
    "    ckpt = torch.load(save_path / filename, weights_only=False)\n",
    "\n",
    "    print(\"Загружено\")\n",
    "\n",
    "    return ckpt"
   ]
  },
  {
   "cell_type": "code",
   "execution_count": null,
   "id": "cd160c20",
   "metadata": {},
   "outputs": [],
   "source": [
    "checkpoint_dir = \"./rosberta_v2.7\" # '/kaggle/input/rosberta-slurs/pytorch/v2.3/3/'\n",
    "loaded_checkpoint = load_checkpoint(checkpoint_dir, 'trainer_state.pt')\n",
    "# save_path = save_model(rosberta_pipeline, \"rosberta_v2.6\", output_dir)"
   ]
  },
  {
   "cell_type": "markdown",
   "id": "16943c30",
   "metadata": {},
   "source": [
    "# Дообучение своих моделей"
   ]
  },
  {
   "cell_type": "markdown",
   "id": "4a8b8f13",
   "metadata": {},
   "source": [
    "Проверяем, что загруженная модель работает корректно"
   ]
  },
  {
   "cell_type": "code",
   "execution_count": null,
   "id": "a90e39f5",
   "metadata": {},
   "outputs": [
    {
     "name": "stdout",
     "output_type": "stream",
     "text": [
      "Устройство: cuda\n",
      "Загружаем модель: ai-forever/ru-en-RoSBERTa\n"
     ]
    },
    {
     "name": "stderr",
     "output_type": "stream",
     "text": [
      "Some weights of RobertaForTokenClassification were not initialized from the model checkpoint at ai-forever/ru-en-RoSBERTa and are newly initialized: ['classifier.bias', 'classifier.weight']\n",
      "You should probably TRAIN this model on a down-stream task to be able to use it for predictions and inference.\n"
     ]
    },
    {
     "name": "stdout",
     "output_type": "stream",
     "text": [
      "Модель загружена\n"
     ]
    }
   ],
   "source": [
    "# Новая модель, куда будут загружены старые настройки\n",
    "rosberta27_pipeline = SlurPipeline(\n",
    "    FineTuneRoSBERTa,  # Класс для предобученной модели\n",
    "    output_dir=output_dir / \"rosberta27_pipeline\",\n",
    "    model_saved_dict=loaded_checkpoint,\n",
    "    batch_size=64,\n",
    "    epochs=1,\n",
    "    learning_rate=3e-5,\n",
    "    grad_accum_steps=1,\n",
    "    warmup_steps=200,\n",
    "    max_length=200  # макс количество токенов\n",
    ")\n",
    "rosberta27_pipeline.model.is_fitted = True"
   ]
  },
  {
   "cell_type": "code",
   "execution_count": null,
   "id": "3c405eb1",
   "metadata": {},
   "outputs": [
    {
     "name": "stderr",
     "output_type": "stream",
     "text": [
      "Extracting slurs: 100%|██████████| 500/500 [00:19<00:00, 25.99it/s]\n"
     ]
    }
   ],
   "source": [
    "val_samples_k = 500\n",
    "predictions = rosberta27_pipeline.transform(X_val[:val_samples_k])"
   ]
  },
  {
   "cell_type": "code",
   "execution_count": null,
   "id": "575cab6e",
   "metadata": {},
   "outputs": [],
   "source": [
    "comp = pd.DataFrame({'Text': X_val[:val_samples_k], 'Prediction': predictions, 'True': y_val[:val_samples_k].values})\n",
    "comp[comp['Prediction'].str.contains(',')][:50]"
   ]
  },
  {
   "cell_type": "markdown",
   "id": "39751152",
   "metadata": {},
   "source": [
    "### Обучение"
   ]
  },
  {
   "cell_type": "code",
   "execution_count": null,
   "id": "e13028db",
   "metadata": {},
   "outputs": [],
   "source": [
    "_ = rosberta27_pipeline.fit(pd.concat([X_train[50000:], X_val]),\n",
    "                            pd.concat([y_train[50000:], y_val]))"
   ]
  },
  {
   "cell_type": "code",
   "execution_count": null,
   "id": "5bcbc3b5",
   "metadata": {},
   "outputs": [],
   "source": [
    "val_samples_k = 5000\n",
    "predictions = rosberta27_pipeline.transform(X_val[:val_samples_k])"
   ]
  },
  {
   "cell_type": "code",
   "execution_count": null,
   "id": "f2335a9a",
   "metadata": {},
   "outputs": [
    {
     "name": "stderr",
     "output_type": "stream",
     "text": [
      "Evaluating RoSBERTa_v2.6: 100%|██████████| 5000/5000 [00:00<00:00, 610382.44it/s]"
     ]
    },
    {
     "name": "stdout",
     "output_type": "stream",
     "text": [
      "RoSBERTa_v2.6 - Average Levenshtein Distance: 2.8862\n"
     ]
    },
    {
     "name": "stderr",
     "output_type": "stream",
     "text": [
      "\n"
     ]
    },
    {
     "data": {
      "text/plain": [
       "2.8862"
      ]
     },
     "metadata": {},
     "output_type": "display_data"
    }
   ],
   "source": [
    "rosberta27_pipeline.evaluate(y_pred=predictions, y_true=y_val[:val_samples_k], name='RoSBERTa_v2.6')"
   ]
  },
  {
   "cell_type": "code",
   "execution_count": null,
   "id": "db86e717",
   "metadata": {},
   "outputs": [],
   "source": [
    "comp = pd.DataFrame({'Text': X_val[:val_samples_k], 'Prediction': predictions, 'True': y_val[:val_samples_k].values})\n",
    "comp[comp['Prediction'] != ''][:10]"
   ]
  },
  {
   "cell_type": "code",
   "execution_count": null,
   "id": "0eac1bce",
   "metadata": {},
   "outputs": [
    {
     "name": "stderr",
     "output_type": "stream",
     "text": [
      "Extracting slurs:  57%|█████▋    | 38262/66949 [21:42<20:00, 23.89it/s]"
     ]
    }
   ],
   "source": [
    "submission = create_submission(\n",
    "    model=rosberta27_pipeline,\n",
    "    test_data=test_df,\n",
    "    filename=output_dir / \"RoSBERTa_v2.7.1_submission.csv\"\n",
    ")"
   ]
  },
  {
   "cell_type": "code",
   "execution_count": null,
   "id": "2dd834db",
   "metadata": {},
   "outputs": [],
   "source": [
    "save_path = save_model(rosberta27_pipeline, \"rosberta_v2.7\", output_dir)"
   ]
  }
 ],
 "metadata": {
  "accelerator": "GPU",
  "colab": {
   "collapsed_sections": [
    "a08ff393",
    "34ce14fb",
    "eaf1ca5a",
    "1c45776b",
    "3aec4b9c",
    "c2cf3699"
   ],
   "gpuType": "T4",
   "provenance": []
  },
  "kaggle": {
   "accelerator": "nvidiaTeslaT4",
   "dataSources": [
    {
     "databundleVersionId": 11903458,
     "sourceId": 99579,
     "sourceType": "competition"
    }
   ],
   "dockerImageVersionId": 31040,
   "isGpuEnabled": true,
   "isInternetEnabled": true,
   "language": "python",
   "sourceType": "notebook"
  },
  "kernelspec": {
   "display_name": "task 2. techsupportchatbot-3.13",
   "language": "python",
   "name": "python3"
  },
  "language_info": {
   "codemirror_mode": {
    "name": "ipython",
    "version": 3
   },
   "file_extension": ".py",
   "mimetype": "text/x-python",
   "name": "python",
   "nbconvert_exporter": "python",
   "pygments_lexer": "ipython3",
   "version": "3.13.3"
  },
  "papermill": {
   "default_parameters": {},
   "duration": 10406.951019,
   "end_time": "2025-06-11T23:41:38.374057",
   "environment_variables": {},
   "exception": null,
   "input_path": "__notebook__.ipynb",
   "output_path": "__notebook__.ipynb",
   "parameters": {},
   "start_time": "2025-06-11T20:48:11.423038",
   "version": "2.6.0"
  },
  "widgets": {
   "application/vnd.jupyter.widget-state+json": {
    "state": {
     "0131307127af4448ad6bf6a0a214c540": {
      "model_module": "@jupyter-widgets/controls",
      "model_module_version": "2.0.0",
      "model_name": "HTMLModel",
      "state": {
       "_dom_classes": [],
       "_model_module": "@jupyter-widgets/controls",
       "_model_module_version": "2.0.0",
       "_model_name": "HTMLModel",
       "_view_count": null,
       "_view_module": "@jupyter-widgets/controls",
       "_view_module_version": "2.0.0",
       "_view_name": "HTMLView",
       "description": "",
       "description_allow_html": false,
       "layout": "IPY_MODEL_8f7b46821b404c759d0da1c98083db09",
       "placeholder": "​",
       "style": "IPY_MODEL_52579dc88a7245839d3c7fc09169fb5d",
       "tabbable": null,
       "tooltip": null,
       "value": " 958/958 [00:00&lt;00:00, 133kB/s]"
      }
     },
     "05ae18eb085349b190358adad1ad426a": {
      "model_module": "@jupyter-widgets/base",
      "model_module_version": "2.0.0",
      "model_name": "LayoutModel",
      "state": {
       "_model_module": "@jupyter-widgets/base",
       "_model_module_version": "2.0.0",
       "_model_name": "LayoutModel",
       "_view_count": null,
       "_view_module": "@jupyter-widgets/base",
       "_view_module_version": "2.0.0",
       "_view_name": "LayoutView",
       "align_content": null,
       "align_items": null,
       "align_self": null,
       "border_bottom": null,
       "border_left": null,
       "border_right": null,
       "border_top": null,
       "bottom": null,
       "display": null,
       "flex": null,
       "flex_flow": null,
       "grid_area": null,
       "grid_auto_columns": null,
       "grid_auto_flow": null,
       "grid_auto_rows": null,
       "grid_column": null,
       "grid_gap": null,
       "grid_row": null,
       "grid_template_areas": null,
       "grid_template_columns": null,
       "grid_template_rows": null,
       "height": null,
       "justify_content": null,
       "justify_items": null,
       "left": null,
       "margin": null,
       "max_height": null,
       "max_width": null,
       "min_height": null,
       "min_width": null,
       "object_fit": null,
       "object_position": null,
       "order": null,
       "overflow": null,
       "padding": null,
       "right": null,
       "top": null,
       "visibility": null,
       "width": null
      }
     },
     "0b2bcd86f6e5452680b2a0302ffa7b04": {
      "model_module": "@jupyter-widgets/controls",
      "model_module_version": "2.0.0",
      "model_name": "FloatProgressModel",
      "state": {
       "_dom_classes": [],
       "_model_module": "@jupyter-widgets/controls",
       "_model_module_version": "2.0.0",
       "_model_name": "FloatProgressModel",
       "_view_count": null,
       "_view_module": "@jupyter-widgets/controls",
       "_view_module_version": "2.0.0",
       "_view_name": "ProgressView",
       "bar_style": "success",
       "description": "",
       "description_allow_html": false,
       "layout": "IPY_MODEL_ac29a8958dd3456c8e893baadcbda5e9",
       "max": 958,
       "min": 0,
       "orientation": "horizontal",
       "style": "IPY_MODEL_de7a55e407a24b6ba3762875723af5ef",
       "tabbable": null,
       "tooltip": null,
       "value": 958
      }
     },
     "0e22e0be154f403a94a11e0fd38e1a31": {
      "model_module": "@jupyter-widgets/base",
      "model_module_version": "2.0.0",
      "model_name": "LayoutModel",
      "state": {
       "_model_module": "@jupyter-widgets/base",
       "_model_module_version": "2.0.0",
       "_model_name": "LayoutModel",
       "_view_count": null,
       "_view_module": "@jupyter-widgets/base",
       "_view_module_version": "2.0.0",
       "_view_name": "LayoutView",
       "align_content": null,
       "align_items": null,
       "align_self": null,
       "border_bottom": null,
       "border_left": null,
       "border_right": null,
       "border_top": null,
       "bottom": null,
       "display": null,
       "flex": null,
       "flex_flow": null,
       "grid_area": null,
       "grid_auto_columns": null,
       "grid_auto_flow": null,
       "grid_auto_rows": null,
       "grid_column": null,
       "grid_gap": null,
       "grid_row": null,
       "grid_template_areas": null,
       "grid_template_columns": null,
       "grid_template_rows": null,
       "height": null,
       "justify_content": null,
       "justify_items": null,
       "left": null,
       "margin": null,
       "max_height": null,
       "max_width": null,
       "min_height": null,
       "min_width": null,
       "object_fit": null,
       "object_position": null,
       "order": null,
       "overflow": null,
       "padding": null,
       "right": null,
       "top": null,
       "visibility": null,
       "width": null
      }
     },
     "12a0fb1c232740a29263e7456c803a0a": {
      "model_module": "@jupyter-widgets/controls",
      "model_module_version": "2.0.0",
      "model_name": "HTMLModel",
      "state": {
       "_dom_classes": [],
       "_model_module": "@jupyter-widgets/controls",
       "_model_module_version": "2.0.0",
       "_model_name": "HTMLModel",
       "_view_count": null,
       "_view_module": "@jupyter-widgets/controls",
       "_view_module_version": "2.0.0",
       "_view_name": "HTMLView",
       "description": "",
       "description_allow_html": false,
       "layout": "IPY_MODEL_8af27763a7df4d49b07ce5794d84154e",
       "placeholder": "​",
       "style": "IPY_MODEL_48a52182dff64705bf17b7939da83479",
       "tabbable": null,
       "tooltip": null,
       "value": "tokenizer.json: 100%"
      }
     },
     "1789ab555cc04fe4b10a72124b08c09f": {
      "model_module": "@jupyter-widgets/controls",
      "model_module_version": "2.0.0",
      "model_name": "HTMLStyleModel",
      "state": {
       "_model_module": "@jupyter-widgets/controls",
       "_model_module_version": "2.0.0",
       "_model_name": "HTMLStyleModel",
       "_view_count": null,
       "_view_module": "@jupyter-widgets/base",
       "_view_module_version": "2.0.0",
       "_view_name": "StyleView",
       "background": null,
       "description_width": "",
       "font_size": null,
       "text_color": null
      }
     },
     "19f1ff00a5b446cd94981d4030b184fc": {
      "model_module": "@jupyter-widgets/controls",
      "model_module_version": "2.0.0",
      "model_name": "FloatProgressModel",
      "state": {
       "_dom_classes": [],
       "_model_module": "@jupyter-widgets/controls",
       "_model_module_version": "2.0.0",
       "_model_name": "FloatProgressModel",
       "_view_count": null,
       "_view_module": "@jupyter-widgets/controls",
       "_view_module_version": "2.0.0",
       "_view_name": "ProgressView",
       "bar_style": "success",
       "description": "",
       "description_allow_html": false,
       "layout": "IPY_MODEL_e500112e941b412787c98fabe47a8133",
       "max": 1614876488,
       "min": 0,
       "orientation": "horizontal",
       "style": "IPY_MODEL_7df205039e764275bb5ea8df8a642d17",
       "tabbable": null,
       "tooltip": null,
       "value": 1614876488
      }
     },
     "1a28e41163534faa8c38ef7294283301": {
      "model_module": "@jupyter-widgets/base",
      "model_module_version": "2.0.0",
      "model_name": "LayoutModel",
      "state": {
       "_model_module": "@jupyter-widgets/base",
       "_model_module_version": "2.0.0",
       "_model_name": "LayoutModel",
       "_view_count": null,
       "_view_module": "@jupyter-widgets/base",
       "_view_module_version": "2.0.0",
       "_view_name": "LayoutView",
       "align_content": null,
       "align_items": null,
       "align_self": null,
       "border_bottom": null,
       "border_left": null,
       "border_right": null,
       "border_top": null,
       "bottom": null,
       "display": null,
       "flex": null,
       "flex_flow": null,
       "grid_area": null,
       "grid_auto_columns": null,
       "grid_auto_flow": null,
       "grid_auto_rows": null,
       "grid_column": null,
       "grid_gap": null,
       "grid_row": null,
       "grid_template_areas": null,
       "grid_template_columns": null,
       "grid_template_rows": null,
       "height": null,
       "justify_content": null,
       "justify_items": null,
       "left": null,
       "margin": null,
       "max_height": null,
       "max_width": null,
       "min_height": null,
       "min_width": null,
       "object_fit": null,
       "object_position": null,
       "order": null,
       "overflow": null,
       "padding": null,
       "right": null,
       "top": null,
       "visibility": null,
       "width": null
      }
     },
     "1a747268430446e3a16f490cf530be13": {
      "model_module": "@jupyter-widgets/controls",
      "model_module_version": "2.0.0",
      "model_name": "HBoxModel",
      "state": {
       "_dom_classes": [],
       "_model_module": "@jupyter-widgets/controls",
       "_model_module_version": "2.0.0",
       "_model_name": "HBoxModel",
       "_view_count": null,
       "_view_module": "@jupyter-widgets/controls",
       "_view_module_version": "2.0.0",
       "_view_name": "HBoxView",
       "box_style": "",
       "children": [
        "IPY_MODEL_5439b2eb61d94132b32d1290b680586e",
        "IPY_MODEL_ff8e897f94a942b69f3b7f88e47ddb9e",
        "IPY_MODEL_6c711efde3ff42b98272b5b0dc2b4427"
       ],
       "layout": "IPY_MODEL_c52e9bb9d17843768bd27122b35cf4f6",
       "tabbable": null,
       "tooltip": null
      }
     },
     "21f8dc7ebc8e4e10beff123925be0ada": {
      "model_module": "@jupyter-widgets/controls",
      "model_module_version": "2.0.0",
      "model_name": "HTMLStyleModel",
      "state": {
       "_model_module": "@jupyter-widgets/controls",
       "_model_module_version": "2.0.0",
       "_model_name": "HTMLStyleModel",
       "_view_count": null,
       "_view_module": "@jupyter-widgets/base",
       "_view_module_version": "2.0.0",
       "_view_name": "StyleView",
       "background": null,
       "description_width": "",
       "font_size": null,
       "text_color": null
      }
     },
     "2563277204ce4044bd5952436b0fd209": {
      "model_module": "@jupyter-widgets/controls",
      "model_module_version": "2.0.0",
      "model_name": "FloatProgressModel",
      "state": {
       "_dom_classes": [],
       "_model_module": "@jupyter-widgets/controls",
       "_model_module_version": "2.0.0",
       "_model_name": "FloatProgressModel",
       "_view_count": null,
       "_view_module": "@jupyter-widgets/controls",
       "_view_module_version": "2.0.0",
       "_view_name": "ProgressView",
       "bar_style": "success",
       "description": "",
       "description_allow_html": false,
       "layout": "IPY_MODEL_2cfddf1eafd64bf9871bc86ceb729c66",
       "max": 1816167,
       "min": 0,
       "orientation": "horizontal",
       "style": "IPY_MODEL_e93c5c47d74942ada47074979cebff2a",
       "tabbable": null,
       "tooltip": null,
       "value": 1816167
      }
     },
     "2cfddf1eafd64bf9871bc86ceb729c66": {
      "model_module": "@jupyter-widgets/base",
      "model_module_version": "2.0.0",
      "model_name": "LayoutModel",
      "state": {
       "_model_module": "@jupyter-widgets/base",
       "_model_module_version": "2.0.0",
       "_model_name": "LayoutModel",
       "_view_count": null,
       "_view_module": "@jupyter-widgets/base",
       "_view_module_version": "2.0.0",
       "_view_name": "LayoutView",
       "align_content": null,
       "align_items": null,
       "align_self": null,
       "border_bottom": null,
       "border_left": null,
       "border_right": null,
       "border_top": null,
       "bottom": null,
       "display": null,
       "flex": null,
       "flex_flow": null,
       "grid_area": null,
       "grid_auto_columns": null,
       "grid_auto_flow": null,
       "grid_auto_rows": null,
       "grid_column": null,
       "grid_gap": null,
       "grid_row": null,
       "grid_template_areas": null,
       "grid_template_columns": null,
       "grid_template_rows": null,
       "height": null,
       "justify_content": null,
       "justify_items": null,
       "left": null,
       "margin": null,
       "max_height": null,
       "max_width": null,
       "min_height": null,
       "min_width": null,
       "object_fit": null,
       "object_position": null,
       "order": null,
       "overflow": null,
       "padding": null,
       "right": null,
       "top": null,
       "visibility": null,
       "width": null
      }
     },
     "2da26c048a414ceb9358c01799aa248b": {
      "model_module": "@jupyter-widgets/base",
      "model_module_version": "2.0.0",
      "model_name": "LayoutModel",
      "state": {
       "_model_module": "@jupyter-widgets/base",
       "_model_module_version": "2.0.0",
       "_model_name": "LayoutModel",
       "_view_count": null,
       "_view_module": "@jupyter-widgets/base",
       "_view_module_version": "2.0.0",
       "_view_name": "LayoutView",
       "align_content": null,
       "align_items": null,
       "align_self": null,
       "border_bottom": null,
       "border_left": null,
       "border_right": null,
       "border_top": null,
       "bottom": null,
       "display": null,
       "flex": null,
       "flex_flow": null,
       "grid_area": null,
       "grid_auto_columns": null,
       "grid_auto_flow": null,
       "grid_auto_rows": null,
       "grid_column": null,
       "grid_gap": null,
       "grid_row": null,
       "grid_template_areas": null,
       "grid_template_columns": null,
       "grid_template_rows": null,
       "height": null,
       "justify_content": null,
       "justify_items": null,
       "left": null,
       "margin": null,
       "max_height": null,
       "max_width": null,
       "min_height": null,
       "min_width": null,
       "object_fit": null,
       "object_position": null,
       "order": null,
       "overflow": null,
       "padding": null,
       "right": null,
       "top": null,
       "visibility": null,
       "width": null
      }
     },
     "3f885be091c7469f81a027d8a920417b": {
      "model_module": "@jupyter-widgets/controls",
      "model_module_version": "2.0.0",
      "model_name": "HTMLStyleModel",
      "state": {
       "_model_module": "@jupyter-widgets/controls",
       "_model_module_version": "2.0.0",
       "_model_name": "HTMLStyleModel",
       "_view_count": null,
       "_view_module": "@jupyter-widgets/base",
       "_view_module_version": "2.0.0",
       "_view_name": "StyleView",
       "background": null,
       "description_width": "",
       "font_size": null,
       "text_color": null
      }
     },
     "414fdd6ceeff43509546be4a39e37da1": {
      "model_module": "@jupyter-widgets/controls",
      "model_module_version": "2.0.0",
      "model_name": "HTMLStyleModel",
      "state": {
       "_model_module": "@jupyter-widgets/controls",
       "_model_module_version": "2.0.0",
       "_model_name": "HTMLStyleModel",
       "_view_count": null,
       "_view_module": "@jupyter-widgets/base",
       "_view_module_version": "2.0.0",
       "_view_name": "StyleView",
       "background": null,
       "description_width": "",
       "font_size": null,
       "text_color": null
      }
     },
     "456beeabdc38472ca3c238be242cf858": {
      "model_module": "@jupyter-widgets/base",
      "model_module_version": "2.0.0",
      "model_name": "LayoutModel",
      "state": {
       "_model_module": "@jupyter-widgets/base",
       "_model_module_version": "2.0.0",
       "_model_name": "LayoutModel",
       "_view_count": null,
       "_view_module": "@jupyter-widgets/base",
       "_view_module_version": "2.0.0",
       "_view_name": "LayoutView",
       "align_content": null,
       "align_items": null,
       "align_self": null,
       "border_bottom": null,
       "border_left": null,
       "border_right": null,
       "border_top": null,
       "bottom": null,
       "display": null,
       "flex": null,
       "flex_flow": null,
       "grid_area": null,
       "grid_auto_columns": null,
       "grid_auto_flow": null,
       "grid_auto_rows": null,
       "grid_column": null,
       "grid_gap": null,
       "grid_row": null,
       "grid_template_areas": null,
       "grid_template_columns": null,
       "grid_template_rows": null,
       "height": null,
       "justify_content": null,
       "justify_items": null,
       "left": null,
       "margin": null,
       "max_height": null,
       "max_width": null,
       "min_height": null,
       "min_width": null,
       "object_fit": null,
       "object_position": null,
       "order": null,
       "overflow": null,
       "padding": null,
       "right": null,
       "top": null,
       "visibility": null,
       "width": null
      }
     },
     "46c47009fff24bc3bb355de35e7151d1": {
      "model_module": "@jupyter-widgets/base",
      "model_module_version": "2.0.0",
      "model_name": "LayoutModel",
      "state": {
       "_model_module": "@jupyter-widgets/base",
       "_model_module_version": "2.0.0",
       "_model_name": "LayoutModel",
       "_view_count": null,
       "_view_module": "@jupyter-widgets/base",
       "_view_module_version": "2.0.0",
       "_view_name": "LayoutView",
       "align_content": null,
       "align_items": null,
       "align_self": null,
       "border_bottom": null,
       "border_left": null,
       "border_right": null,
       "border_top": null,
       "bottom": null,
       "display": null,
       "flex": null,
       "flex_flow": null,
       "grid_area": null,
       "grid_auto_columns": null,
       "grid_auto_flow": null,
       "grid_auto_rows": null,
       "grid_column": null,
       "grid_gap": null,
       "grid_row": null,
       "grid_template_areas": null,
       "grid_template_columns": null,
       "grid_template_rows": null,
       "height": null,
       "justify_content": null,
       "justify_items": null,
       "left": null,
       "margin": null,
       "max_height": null,
       "max_width": null,
       "min_height": null,
       "min_width": null,
       "object_fit": null,
       "object_position": null,
       "order": null,
       "overflow": null,
       "padding": null,
       "right": null,
       "top": null,
       "visibility": null,
       "width": null
      }
     },
     "47c05619a4a64d309096a997749e071f": {
      "model_module": "@jupyter-widgets/controls",
      "model_module_version": "2.0.0",
      "model_name": "HTMLModel",
      "state": {
       "_dom_classes": [],
       "_model_module": "@jupyter-widgets/controls",
       "_model_module_version": "2.0.0",
       "_model_name": "HTMLModel",
       "_view_count": null,
       "_view_module": "@jupyter-widgets/controls",
       "_view_module_version": "2.0.0",
       "_view_name": "HTMLView",
       "description": "",
       "description_allow_html": false,
       "layout": "IPY_MODEL_456beeabdc38472ca3c238be242cf858",
       "placeholder": "​",
       "style": "IPY_MODEL_1789ab555cc04fe4b10a72124b08c09f",
       "tabbable": null,
       "tooltip": null,
       "value": "tokenizer_config.json: 100%"
      }
     },
     "48a52182dff64705bf17b7939da83479": {
      "model_module": "@jupyter-widgets/controls",
      "model_module_version": "2.0.0",
      "model_name": "HTMLStyleModel",
      "state": {
       "_model_module": "@jupyter-widgets/controls",
       "_model_module_version": "2.0.0",
       "_model_name": "HTMLStyleModel",
       "_view_count": null,
       "_view_module": "@jupyter-widgets/base",
       "_view_module_version": "2.0.0",
       "_view_name": "StyleView",
       "background": null,
       "description_width": "",
       "font_size": null,
       "text_color": null
      }
     },
     "496554f147d14c6a961681be45f91aa0": {
      "model_module": "@jupyter-widgets/base",
      "model_module_version": "2.0.0",
      "model_name": "LayoutModel",
      "state": {
       "_model_module": "@jupyter-widgets/base",
       "_model_module_version": "2.0.0",
       "_model_name": "LayoutModel",
       "_view_count": null,
       "_view_module": "@jupyter-widgets/base",
       "_view_module_version": "2.0.0",
       "_view_name": "LayoutView",
       "align_content": null,
       "align_items": null,
       "align_self": null,
       "border_bottom": null,
       "border_left": null,
       "border_right": null,
       "border_top": null,
       "bottom": null,
       "display": null,
       "flex": null,
       "flex_flow": null,
       "grid_area": null,
       "grid_auto_columns": null,
       "grid_auto_flow": null,
       "grid_auto_rows": null,
       "grid_column": null,
       "grid_gap": null,
       "grid_row": null,
       "grid_template_areas": null,
       "grid_template_columns": null,
       "grid_template_rows": null,
       "height": null,
       "justify_content": null,
       "justify_items": null,
       "left": null,
       "margin": null,
       "max_height": null,
       "max_width": null,
       "min_height": null,
       "min_width": null,
       "object_fit": null,
       "object_position": null,
       "order": null,
       "overflow": null,
       "padding": null,
       "right": null,
       "top": null,
       "visibility": null,
       "width": null
      }
     },
     "4c29f61cf034445a8229ea089e42d1b7": {
      "model_module": "@jupyter-widgets/controls",
      "model_module_version": "2.0.0",
      "model_name": "HTMLStyleModel",
      "state": {
       "_model_module": "@jupyter-widgets/controls",
       "_model_module_version": "2.0.0",
       "_model_name": "HTMLStyleModel",
       "_view_count": null,
       "_view_module": "@jupyter-widgets/base",
       "_view_module_version": "2.0.0",
       "_view_name": "StyleView",
       "background": null,
       "description_width": "",
       "font_size": null,
       "text_color": null
      }
     },
     "4f5b4a5e124346f2b84e5ae4c19528e2": {
      "model_module": "@jupyter-widgets/controls",
      "model_module_version": "2.0.0",
      "model_name": "HTMLStyleModel",
      "state": {
       "_model_module": "@jupyter-widgets/controls",
       "_model_module_version": "2.0.0",
       "_model_name": "HTMLStyleModel",
       "_view_count": null,
       "_view_module": "@jupyter-widgets/base",
       "_view_module_version": "2.0.0",
       "_view_name": "StyleView",
       "background": null,
       "description_width": "",
       "font_size": null,
       "text_color": null
      }
     },
     "516a2a44f7464a3f8537190764dcfdd5": {
      "model_module": "@jupyter-widgets/controls",
      "model_module_version": "2.0.0",
      "model_name": "HTMLStyleModel",
      "state": {
       "_model_module": "@jupyter-widgets/controls",
       "_model_module_version": "2.0.0",
       "_model_name": "HTMLStyleModel",
       "_view_count": null,
       "_view_module": "@jupyter-widgets/base",
       "_view_module_version": "2.0.0",
       "_view_name": "StyleView",
       "background": null,
       "description_width": "",
       "font_size": null,
       "text_color": null
      }
     },
     "51aeabe1219d4261a0a01b41797e0d99": {
      "model_module": "@jupyter-widgets/controls",
      "model_module_version": "2.0.0",
      "model_name": "HTMLModel",
      "state": {
       "_dom_classes": [],
       "_model_module": "@jupyter-widgets/controls",
       "_model_module_version": "2.0.0",
       "_model_name": "HTMLModel",
       "_view_count": null,
       "_view_module": "@jupyter-widgets/controls",
       "_view_module_version": "2.0.0",
       "_view_name": "HTMLView",
       "description": "",
       "description_allow_html": false,
       "layout": "IPY_MODEL_54725ec58d8341209888a99fdbfa87b4",
       "placeholder": "​",
       "style": "IPY_MODEL_4f5b4a5e124346f2b84e5ae4c19528e2",
       "tabbable": null,
       "tooltip": null,
       "value": " 1.21k/1.21k [00:00&lt;00:00, 150kB/s]"
      }
     },
     "52579dc88a7245839d3c7fc09169fb5d": {
      "model_module": "@jupyter-widgets/controls",
      "model_module_version": "2.0.0",
      "model_name": "HTMLStyleModel",
      "state": {
       "_model_module": "@jupyter-widgets/controls",
       "_model_module_version": "2.0.0",
       "_model_name": "HTMLStyleModel",
       "_view_count": null,
       "_view_module": "@jupyter-widgets/base",
       "_view_module_version": "2.0.0",
       "_view_name": "StyleView",
       "background": null,
       "description_width": "",
       "font_size": null,
       "text_color": null
      }
     },
     "5439b2eb61d94132b32d1290b680586e": {
      "model_module": "@jupyter-widgets/controls",
      "model_module_version": "2.0.0",
      "model_name": "HTMLModel",
      "state": {
       "_dom_classes": [],
       "_model_module": "@jupyter-widgets/controls",
       "_model_module_version": "2.0.0",
       "_model_name": "HTMLModel",
       "_view_count": null,
       "_view_module": "@jupyter-widgets/controls",
       "_view_module_version": "2.0.0",
       "_view_name": "HTMLView",
       "description": "",
       "description_allow_html": false,
       "layout": "IPY_MODEL_ca934044117445a3bd1f1c206975143d",
       "placeholder": "​",
       "style": "IPY_MODEL_7b3192ec357c4513bec01390351549e4",
       "tabbable": null,
       "tooltip": null,
       "value": "config.json: 100%"
      }
     },
     "54725ec58d8341209888a99fdbfa87b4": {
      "model_module": "@jupyter-widgets/base",
      "model_module_version": "2.0.0",
      "model_name": "LayoutModel",
      "state": {
       "_model_module": "@jupyter-widgets/base",
       "_model_module_version": "2.0.0",
       "_model_name": "LayoutModel",
       "_view_count": null,
       "_view_module": "@jupyter-widgets/base",
       "_view_module_version": "2.0.0",
       "_view_name": "LayoutView",
       "align_content": null,
       "align_items": null,
       "align_self": null,
       "border_bottom": null,
       "border_left": null,
       "border_right": null,
       "border_top": null,
       "bottom": null,
       "display": null,
       "flex": null,
       "flex_flow": null,
       "grid_area": null,
       "grid_auto_columns": null,
       "grid_auto_flow": null,
       "grid_auto_rows": null,
       "grid_column": null,
       "grid_gap": null,
       "grid_row": null,
       "grid_template_areas": null,
       "grid_template_columns": null,
       "grid_template_rows": null,
       "height": null,
       "justify_content": null,
       "justify_items": null,
       "left": null,
       "margin": null,
       "max_height": null,
       "max_width": null,
       "min_height": null,
       "min_width": null,
       "object_fit": null,
       "object_position": null,
       "order": null,
       "overflow": null,
       "padding": null,
       "right": null,
       "top": null,
       "visibility": null,
       "width": null
      }
     },
     "559f64387c8c47bdaeb8990e3d5e06b7": {
      "model_module": "@jupyter-widgets/controls",
      "model_module_version": "2.0.0",
      "model_name": "HBoxModel",
      "state": {
       "_dom_classes": [],
       "_model_module": "@jupyter-widgets/controls",
       "_model_module_version": "2.0.0",
       "_model_name": "HBoxModel",
       "_view_count": null,
       "_view_module": "@jupyter-widgets/controls",
       "_view_module_version": "2.0.0",
       "_view_name": "HBoxView",
       "box_style": "",
       "children": [
        "IPY_MODEL_12a0fb1c232740a29263e7456c803a0a",
        "IPY_MODEL_df3360701ec448dbb8b4bfd70471ec90",
        "IPY_MODEL_eaceee995cf04f67ab2403b10543a49b"
       ],
       "layout": "IPY_MODEL_bd835cc01b0b47cfad8386e5776341b6",
       "tabbable": null,
       "tooltip": null
      }
     },
     "55dc548e38014d059bb44690da5b56f9": {
      "model_module": "@jupyter-widgets/controls",
      "model_module_version": "2.0.0",
      "model_name": "ProgressStyleModel",
      "state": {
       "_model_module": "@jupyter-widgets/controls",
       "_model_module_version": "2.0.0",
       "_model_name": "ProgressStyleModel",
       "_view_count": null,
       "_view_module": "@jupyter-widgets/base",
       "_view_module_version": "2.0.0",
       "_view_name": "StyleView",
       "bar_color": null,
       "description_width": ""
      }
     },
     "564c532f4fdc4e20974c47dd256457c7": {
      "model_module": "@jupyter-widgets/controls",
      "model_module_version": "2.0.0",
      "model_name": "HBoxModel",
      "state": {
       "_dom_classes": [],
       "_model_module": "@jupyter-widgets/controls",
       "_model_module_version": "2.0.0",
       "_model_name": "HBoxModel",
       "_view_count": null,
       "_view_module": "@jupyter-widgets/controls",
       "_view_module_version": "2.0.0",
       "_view_name": "HBoxView",
       "box_style": "",
       "children": [
        "IPY_MODEL_d70f5f87f6ee4223aa8991df9ce592d2",
        "IPY_MODEL_19f1ff00a5b446cd94981d4030b184fc",
        "IPY_MODEL_8eb45f096d8b49f4bf1b780b67868c9b"
       ],
       "layout": "IPY_MODEL_05ae18eb085349b190358adad1ad426a",
       "tabbable": null,
       "tooltip": null
      }
     },
     "5b98fd59368f45daaa07d8716d14f72b": {
      "model_module": "@jupyter-widgets/controls",
      "model_module_version": "2.0.0",
      "model_name": "HTMLStyleModel",
      "state": {
       "_model_module": "@jupyter-widgets/controls",
       "_model_module_version": "2.0.0",
       "_model_name": "HTMLStyleModel",
       "_view_count": null,
       "_view_module": "@jupyter-widgets/base",
       "_view_module_version": "2.0.0",
       "_view_name": "StyleView",
       "background": null,
       "description_width": "",
       "font_size": null,
       "text_color": null
      }
     },
     "673963c4458c4b3b87d5c18e1e3a6c95": {
      "model_module": "@jupyter-widgets/base",
      "model_module_version": "2.0.0",
      "model_name": "LayoutModel",
      "state": {
       "_model_module": "@jupyter-widgets/base",
       "_model_module_version": "2.0.0",
       "_model_name": "LayoutModel",
       "_view_count": null,
       "_view_module": "@jupyter-widgets/base",
       "_view_module_version": "2.0.0",
       "_view_name": "LayoutView",
       "align_content": null,
       "align_items": null,
       "align_self": null,
       "border_bottom": null,
       "border_left": null,
       "border_right": null,
       "border_top": null,
       "bottom": null,
       "display": null,
       "flex": null,
       "flex_flow": null,
       "grid_area": null,
       "grid_auto_columns": null,
       "grid_auto_flow": null,
       "grid_auto_rows": null,
       "grid_column": null,
       "grid_gap": null,
       "grid_row": null,
       "grid_template_areas": null,
       "grid_template_columns": null,
       "grid_template_rows": null,
       "height": null,
       "justify_content": null,
       "justify_items": null,
       "left": null,
       "margin": null,
       "max_height": null,
       "max_width": null,
       "min_height": null,
       "min_width": null,
       "object_fit": null,
       "object_position": null,
       "order": null,
       "overflow": null,
       "padding": null,
       "right": null,
       "top": null,
       "visibility": null,
       "width": null
      }
     },
     "6c711efde3ff42b98272b5b0dc2b4427": {
      "model_module": "@jupyter-widgets/controls",
      "model_module_version": "2.0.0",
      "model_name": "HTMLModel",
      "state": {
       "_dom_classes": [],
       "_model_module": "@jupyter-widgets/controls",
       "_model_module_version": "2.0.0",
       "_model_name": "HTMLModel",
       "_view_count": null,
       "_view_module": "@jupyter-widgets/controls",
       "_view_module_version": "2.0.0",
       "_view_name": "HTMLView",
       "description": "",
       "description_allow_html": false,
       "layout": "IPY_MODEL_1a28e41163534faa8c38ef7294283301",
       "placeholder": "​",
       "style": "IPY_MODEL_4c29f61cf034445a8229ea089e42d1b7",
       "tabbable": null,
       "tooltip": null,
       "value": " 715/715 [00:00&lt;00:00, 93.6kB/s]"
      }
     },
     "7b3192ec357c4513bec01390351549e4": {
      "model_module": "@jupyter-widgets/controls",
      "model_module_version": "2.0.0",
      "model_name": "HTMLStyleModel",
      "state": {
       "_model_module": "@jupyter-widgets/controls",
       "_model_module_version": "2.0.0",
       "_model_name": "HTMLStyleModel",
       "_view_count": null,
       "_view_module": "@jupyter-widgets/base",
       "_view_module_version": "2.0.0",
       "_view_name": "StyleView",
       "background": null,
       "description_width": "",
       "font_size": null,
       "text_color": null
      }
     },
     "7b7a30f0aa0d44668ed7d6353479e1fe": {
      "model_module": "@jupyter-widgets/controls",
      "model_module_version": "2.0.0",
      "model_name": "HBoxModel",
      "state": {
       "_dom_classes": [],
       "_model_module": "@jupyter-widgets/controls",
       "_model_module_version": "2.0.0",
       "_model_name": "HBoxModel",
       "_view_count": null,
       "_view_module": "@jupyter-widgets/controls",
       "_view_module_version": "2.0.0",
       "_view_name": "HBoxView",
       "box_style": "",
       "children": [
        "IPY_MODEL_47c05619a4a64d309096a997749e071f",
        "IPY_MODEL_8590c3c65db748068ad2191baebc7b7c",
        "IPY_MODEL_51aeabe1219d4261a0a01b41797e0d99"
       ],
       "layout": "IPY_MODEL_9e603c01402147858de0fe7540ab2c0d",
       "tabbable": null,
       "tooltip": null
      }
     },
     "7df205039e764275bb5ea8df8a642d17": {
      "model_module": "@jupyter-widgets/controls",
      "model_module_version": "2.0.0",
      "model_name": "ProgressStyleModel",
      "state": {
       "_model_module": "@jupyter-widgets/controls",
       "_model_module_version": "2.0.0",
       "_model_name": "ProgressStyleModel",
       "_view_count": null,
       "_view_module": "@jupyter-widgets/base",
       "_view_module_version": "2.0.0",
       "_view_name": "StyleView",
       "bar_color": null,
       "description_width": ""
      }
     },
     "83d1aec764c24e46bb6c10e443026a0c": {
      "model_module": "@jupyter-widgets/base",
      "model_module_version": "2.0.0",
      "model_name": "LayoutModel",
      "state": {
       "_model_module": "@jupyter-widgets/base",
       "_model_module_version": "2.0.0",
       "_model_name": "LayoutModel",
       "_view_count": null,
       "_view_module": "@jupyter-widgets/base",
       "_view_module_version": "2.0.0",
       "_view_name": "LayoutView",
       "align_content": null,
       "align_items": null,
       "align_self": null,
       "border_bottom": null,
       "border_left": null,
       "border_right": null,
       "border_top": null,
       "bottom": null,
       "display": null,
       "flex": null,
       "flex_flow": null,
       "grid_area": null,
       "grid_auto_columns": null,
       "grid_auto_flow": null,
       "grid_auto_rows": null,
       "grid_column": null,
       "grid_gap": null,
       "grid_row": null,
       "grid_template_areas": null,
       "grid_template_columns": null,
       "grid_template_rows": null,
       "height": null,
       "justify_content": null,
       "justify_items": null,
       "left": null,
       "margin": null,
       "max_height": null,
       "max_width": null,
       "min_height": null,
       "min_width": null,
       "object_fit": null,
       "object_position": null,
       "order": null,
       "overflow": null,
       "padding": null,
       "right": null,
       "top": null,
       "visibility": null,
       "width": null
      }
     },
     "84cb437efbef408cb3e4a11b292d69c4": {
      "model_module": "@jupyter-widgets/controls",
      "model_module_version": "2.0.0",
      "model_name": "ProgressStyleModel",
      "state": {
       "_model_module": "@jupyter-widgets/controls",
       "_model_module_version": "2.0.0",
       "_model_name": "ProgressStyleModel",
       "_view_count": null,
       "_view_module": "@jupyter-widgets/base",
       "_view_module_version": "2.0.0",
       "_view_name": "StyleView",
       "bar_color": null,
       "description_width": ""
      }
     },
     "8590c3c65db748068ad2191baebc7b7c": {
      "model_module": "@jupyter-widgets/controls",
      "model_module_version": "2.0.0",
      "model_name": "FloatProgressModel",
      "state": {
       "_dom_classes": [],
       "_model_module": "@jupyter-widgets/controls",
       "_model_module_version": "2.0.0",
       "_model_name": "FloatProgressModel",
       "_view_count": null,
       "_view_module": "@jupyter-widgets/controls",
       "_view_module_version": "2.0.0",
       "_view_name": "ProgressView",
       "bar_style": "success",
       "description": "",
       "description_allow_html": false,
       "layout": "IPY_MODEL_673963c4458c4b3b87d5c18e1e3a6c95",
       "max": 1211,
       "min": 0,
       "orientation": "horizontal",
       "style": "IPY_MODEL_e69e96bf7d6b4b1aba8747ff0f140e5b",
       "tabbable": null,
       "tooltip": null,
       "value": 1211
      }
     },
     "86ec8b14a38943f68cba342e2ae2d667": {
      "model_module": "@jupyter-widgets/controls",
      "model_module_version": "2.0.0",
      "model_name": "FloatProgressModel",
      "state": {
       "_dom_classes": [],
       "_model_module": "@jupyter-widgets/controls",
       "_model_module_version": "2.0.0",
       "_model_name": "FloatProgressModel",
       "_view_count": null,
       "_view_module": "@jupyter-widgets/controls",
       "_view_module_version": "2.0.0",
       "_view_name": "ProgressView",
       "bar_style": "success",
       "description": "",
       "description_allow_html": false,
       "layout": "IPY_MODEL_0e22e0be154f403a94a11e0fd38e1a31",
       "max": 2494898,
       "min": 0,
       "orientation": "horizontal",
       "style": "IPY_MODEL_84cb437efbef408cb3e4a11b292d69c4",
       "tabbable": null,
       "tooltip": null,
       "value": 2494898
      }
     },
     "8af27763a7df4d49b07ce5794d84154e": {
      "model_module": "@jupyter-widgets/base",
      "model_module_version": "2.0.0",
      "model_name": "LayoutModel",
      "state": {
       "_model_module": "@jupyter-widgets/base",
       "_model_module_version": "2.0.0",
       "_model_name": "LayoutModel",
       "_view_count": null,
       "_view_module": "@jupyter-widgets/base",
       "_view_module_version": "2.0.0",
       "_view_name": "LayoutView",
       "align_content": null,
       "align_items": null,
       "align_self": null,
       "border_bottom": null,
       "border_left": null,
       "border_right": null,
       "border_top": null,
       "bottom": null,
       "display": null,
       "flex": null,
       "flex_flow": null,
       "grid_area": null,
       "grid_auto_columns": null,
       "grid_auto_flow": null,
       "grid_auto_rows": null,
       "grid_column": null,
       "grid_gap": null,
       "grid_row": null,
       "grid_template_areas": null,
       "grid_template_columns": null,
       "grid_template_rows": null,
       "height": null,
       "justify_content": null,
       "justify_items": null,
       "left": null,
       "margin": null,
       "max_height": null,
       "max_width": null,
       "min_height": null,
       "min_width": null,
       "object_fit": null,
       "object_position": null,
       "order": null,
       "overflow": null,
       "padding": null,
       "right": null,
       "top": null,
       "visibility": null,
       "width": null
      }
     },
     "8c638fa194894ce0b14ea00a569e0275": {
      "model_module": "@jupyter-widgets/controls",
      "model_module_version": "2.0.0",
      "model_name": "HTMLModel",
      "state": {
       "_dom_classes": [],
       "_model_module": "@jupyter-widgets/controls",
       "_model_module_version": "2.0.0",
       "_model_name": "HTMLModel",
       "_view_count": null,
       "_view_module": "@jupyter-widgets/controls",
       "_view_module_version": "2.0.0",
       "_view_name": "HTMLView",
       "description": "",
       "description_allow_html": false,
       "layout": "IPY_MODEL_83d1aec764c24e46bb6c10e443026a0c",
       "placeholder": "​",
       "style": "IPY_MODEL_c338e8cbe04b408c95f83c41cb9df131",
       "tabbable": null,
       "tooltip": null,
       "value": " 1.82M/1.82M [00:00&lt;00:00, 27.8MB/s]"
      }
     },
     "8eb45f096d8b49f4bf1b780b67868c9b": {
      "model_module": "@jupyter-widgets/controls",
      "model_module_version": "2.0.0",
      "model_name": "HTMLModel",
      "state": {
       "_dom_classes": [],
       "_model_module": "@jupyter-widgets/controls",
       "_model_module_version": "2.0.0",
       "_model_name": "HTMLModel",
       "_view_count": null,
       "_view_module": "@jupyter-widgets/controls",
       "_view_module_version": "2.0.0",
       "_view_name": "HTMLView",
       "description": "",
       "description_allow_html": false,
       "layout": "IPY_MODEL_a905f2fc9a1b4058827056afbec6f32f",
       "placeholder": "​",
       "style": "IPY_MODEL_21f8dc7ebc8e4e10beff123925be0ada",
       "tabbable": null,
       "tooltip": null,
       "value": " 1.61G/1.61G [00:06&lt;00:00, 247MB/s]"
      }
     },
     "8f7b46821b404c759d0da1c98083db09": {
      "model_module": "@jupyter-widgets/base",
      "model_module_version": "2.0.0",
      "model_name": "LayoutModel",
      "state": {
       "_model_module": "@jupyter-widgets/base",
       "_model_module_version": "2.0.0",
       "_model_name": "LayoutModel",
       "_view_count": null,
       "_view_module": "@jupyter-widgets/base",
       "_view_module_version": "2.0.0",
       "_view_name": "LayoutView",
       "align_content": null,
       "align_items": null,
       "align_self": null,
       "border_bottom": null,
       "border_left": null,
       "border_right": null,
       "border_top": null,
       "bottom": null,
       "display": null,
       "flex": null,
       "flex_flow": null,
       "grid_area": null,
       "grid_auto_columns": null,
       "grid_auto_flow": null,
       "grid_auto_rows": null,
       "grid_column": null,
       "grid_gap": null,
       "grid_row": null,
       "grid_template_areas": null,
       "grid_template_columns": null,
       "grid_template_rows": null,
       "height": null,
       "justify_content": null,
       "justify_items": null,
       "left": null,
       "margin": null,
       "max_height": null,
       "max_width": null,
       "min_height": null,
       "min_width": null,
       "object_fit": null,
       "object_position": null,
       "order": null,
       "overflow": null,
       "padding": null,
       "right": null,
       "top": null,
       "visibility": null,
       "width": null
      }
     },
     "9266f6ba90924034bce4502d64b13a29": {
      "model_module": "@jupyter-widgets/controls",
      "model_module_version": "2.0.0",
      "model_name": "HBoxModel",
      "state": {
       "_dom_classes": [],
       "_model_module": "@jupyter-widgets/controls",
       "_model_module_version": "2.0.0",
       "_model_name": "HBoxModel",
       "_view_count": null,
       "_view_module": "@jupyter-widgets/controls",
       "_view_module_version": "2.0.0",
       "_view_name": "HBoxView",
       "box_style": "",
       "children": [
        "IPY_MODEL_c7cf31924c2249758c5fc41759ef3f99",
        "IPY_MODEL_2563277204ce4044bd5952436b0fd209",
        "IPY_MODEL_8c638fa194894ce0b14ea00a569e0275"
       ],
       "layout": "IPY_MODEL_fd70d6c7a5fb46afb3c465ad57ff670e",
       "tabbable": null,
       "tooltip": null
      }
     },
     "9b21317694574fe9ba7498777f94bc43": {
      "model_module": "@jupyter-widgets/base",
      "model_module_version": "2.0.0",
      "model_name": "LayoutModel",
      "state": {
       "_model_module": "@jupyter-widgets/base",
       "_model_module_version": "2.0.0",
       "_model_name": "LayoutModel",
       "_view_count": null,
       "_view_module": "@jupyter-widgets/base",
       "_view_module_version": "2.0.0",
       "_view_name": "LayoutView",
       "align_content": null,
       "align_items": null,
       "align_self": null,
       "border_bottom": null,
       "border_left": null,
       "border_right": null,
       "border_top": null,
       "bottom": null,
       "display": null,
       "flex": null,
       "flex_flow": null,
       "grid_area": null,
       "grid_auto_columns": null,
       "grid_auto_flow": null,
       "grid_auto_rows": null,
       "grid_column": null,
       "grid_gap": null,
       "grid_row": null,
       "grid_template_areas": null,
       "grid_template_columns": null,
       "grid_template_rows": null,
       "height": null,
       "justify_content": null,
       "justify_items": null,
       "left": null,
       "margin": null,
       "max_height": null,
       "max_width": null,
       "min_height": null,
       "min_width": null,
       "object_fit": null,
       "object_position": null,
       "order": null,
       "overflow": null,
       "padding": null,
       "right": null,
       "top": null,
       "visibility": null,
       "width": null
      }
     },
     "9e603c01402147858de0fe7540ab2c0d": {
      "model_module": "@jupyter-widgets/base",
      "model_module_version": "2.0.0",
      "model_name": "LayoutModel",
      "state": {
       "_model_module": "@jupyter-widgets/base",
       "_model_module_version": "2.0.0",
       "_model_name": "LayoutModel",
       "_view_count": null,
       "_view_module": "@jupyter-widgets/base",
       "_view_module_version": "2.0.0",
       "_view_name": "LayoutView",
       "align_content": null,
       "align_items": null,
       "align_self": null,
       "border_bottom": null,
       "border_left": null,
       "border_right": null,
       "border_top": null,
       "bottom": null,
       "display": null,
       "flex": null,
       "flex_flow": null,
       "grid_area": null,
       "grid_auto_columns": null,
       "grid_auto_flow": null,
       "grid_auto_rows": null,
       "grid_column": null,
       "grid_gap": null,
       "grid_row": null,
       "grid_template_areas": null,
       "grid_template_columns": null,
       "grid_template_rows": null,
       "height": null,
       "justify_content": null,
       "justify_items": null,
       "left": null,
       "margin": null,
       "max_height": null,
       "max_width": null,
       "min_height": null,
       "min_width": null,
       "object_fit": null,
       "object_position": null,
       "order": null,
       "overflow": null,
       "padding": null,
       "right": null,
       "top": null,
       "visibility": null,
       "width": null
      }
     },
     "9eb33dea023d4c8fb4f80f686c812292": {
      "model_module": "@jupyter-widgets/controls",
      "model_module_version": "2.0.0",
      "model_name": "HTMLModel",
      "state": {
       "_dom_classes": [],
       "_model_module": "@jupyter-widgets/controls",
       "_model_module_version": "2.0.0",
       "_model_name": "HTMLModel",
       "_view_count": null,
       "_view_module": "@jupyter-widgets/controls",
       "_view_module_version": "2.0.0",
       "_view_name": "HTMLView",
       "description": "",
       "description_allow_html": false,
       "layout": "IPY_MODEL_c23324eff3e546eca60ff997ae422b3a",
       "placeholder": "​",
       "style": "IPY_MODEL_414fdd6ceeff43509546be4a39e37da1",
       "tabbable": null,
       "tooltip": null,
       "value": "special_tokens_map.json: 100%"
      }
     },
     "a20ad418ac664aa8acab0f28ae9d74c1": {
      "model_module": "@jupyter-widgets/base",
      "model_module_version": "2.0.0",
      "model_name": "LayoutModel",
      "state": {
       "_model_module": "@jupyter-widgets/base",
       "_model_module_version": "2.0.0",
       "_model_name": "LayoutModel",
       "_view_count": null,
       "_view_module": "@jupyter-widgets/base",
       "_view_module_version": "2.0.0",
       "_view_name": "LayoutView",
       "align_content": null,
       "align_items": null,
       "align_self": null,
       "border_bottom": null,
       "border_left": null,
       "border_right": null,
       "border_top": null,
       "bottom": null,
       "display": null,
       "flex": null,
       "flex_flow": null,
       "grid_area": null,
       "grid_auto_columns": null,
       "grid_auto_flow": null,
       "grid_auto_rows": null,
       "grid_column": null,
       "grid_gap": null,
       "grid_row": null,
       "grid_template_areas": null,
       "grid_template_columns": null,
       "grid_template_rows": null,
       "height": null,
       "justify_content": null,
       "justify_items": null,
       "left": null,
       "margin": null,
       "max_height": null,
       "max_width": null,
       "min_height": null,
       "min_width": null,
       "object_fit": null,
       "object_position": null,
       "order": null,
       "overflow": null,
       "padding": null,
       "right": null,
       "top": null,
       "visibility": null,
       "width": null
      }
     },
     "a905f2fc9a1b4058827056afbec6f32f": {
      "model_module": "@jupyter-widgets/base",
      "model_module_version": "2.0.0",
      "model_name": "LayoutModel",
      "state": {
       "_model_module": "@jupyter-widgets/base",
       "_model_module_version": "2.0.0",
       "_model_name": "LayoutModel",
       "_view_count": null,
       "_view_module": "@jupyter-widgets/base",
       "_view_module_version": "2.0.0",
       "_view_name": "LayoutView",
       "align_content": null,
       "align_items": null,
       "align_self": null,
       "border_bottom": null,
       "border_left": null,
       "border_right": null,
       "border_top": null,
       "bottom": null,
       "display": null,
       "flex": null,
       "flex_flow": null,
       "grid_area": null,
       "grid_auto_columns": null,
       "grid_auto_flow": null,
       "grid_auto_rows": null,
       "grid_column": null,
       "grid_gap": null,
       "grid_row": null,
       "grid_template_areas": null,
       "grid_template_columns": null,
       "grid_template_rows": null,
       "height": null,
       "justify_content": null,
       "justify_items": null,
       "left": null,
       "margin": null,
       "max_height": null,
       "max_width": null,
       "min_height": null,
       "min_width": null,
       "object_fit": null,
       "object_position": null,
       "order": null,
       "overflow": null,
       "padding": null,
       "right": null,
       "top": null,
       "visibility": null,
       "width": null
      }
     },
     "aa5c7003bb6044b1b13965fe01759c5d": {
      "model_module": "@jupyter-widgets/base",
      "model_module_version": "2.0.0",
      "model_name": "LayoutModel",
      "state": {
       "_model_module": "@jupyter-widgets/base",
       "_model_module_version": "2.0.0",
       "_model_name": "LayoutModel",
       "_view_count": null,
       "_view_module": "@jupyter-widgets/base",
       "_view_module_version": "2.0.0",
       "_view_name": "LayoutView",
       "align_content": null,
       "align_items": null,
       "align_self": null,
       "border_bottom": null,
       "border_left": null,
       "border_right": null,
       "border_top": null,
       "bottom": null,
       "display": null,
       "flex": null,
       "flex_flow": null,
       "grid_area": null,
       "grid_auto_columns": null,
       "grid_auto_flow": null,
       "grid_auto_rows": null,
       "grid_column": null,
       "grid_gap": null,
       "grid_row": null,
       "grid_template_areas": null,
       "grid_template_columns": null,
       "grid_template_rows": null,
       "height": null,
       "justify_content": null,
       "justify_items": null,
       "left": null,
       "margin": null,
       "max_height": null,
       "max_width": null,
       "min_height": null,
       "min_width": null,
       "object_fit": null,
       "object_position": null,
       "order": null,
       "overflow": null,
       "padding": null,
       "right": null,
       "top": null,
       "visibility": null,
       "width": null
      }
     },
     "ac29a8958dd3456c8e893baadcbda5e9": {
      "model_module": "@jupyter-widgets/base",
      "model_module_version": "2.0.0",
      "model_name": "LayoutModel",
      "state": {
       "_model_module": "@jupyter-widgets/base",
       "_model_module_version": "2.0.0",
       "_model_name": "LayoutModel",
       "_view_count": null,
       "_view_module": "@jupyter-widgets/base",
       "_view_module_version": "2.0.0",
       "_view_name": "LayoutView",
       "align_content": null,
       "align_items": null,
       "align_self": null,
       "border_bottom": null,
       "border_left": null,
       "border_right": null,
       "border_top": null,
       "bottom": null,
       "display": null,
       "flex": null,
       "flex_flow": null,
       "grid_area": null,
       "grid_auto_columns": null,
       "grid_auto_flow": null,
       "grid_auto_rows": null,
       "grid_column": null,
       "grid_gap": null,
       "grid_row": null,
       "grid_template_areas": null,
       "grid_template_columns": null,
       "grid_template_rows": null,
       "height": null,
       "justify_content": null,
       "justify_items": null,
       "left": null,
       "margin": null,
       "max_height": null,
       "max_width": null,
       "min_height": null,
       "min_width": null,
       "object_fit": null,
       "object_position": null,
       "order": null,
       "overflow": null,
       "padding": null,
       "right": null,
       "top": null,
       "visibility": null,
       "width": null
      }
     },
     "b029112633df494bae1274d6eb2c89b5": {
      "model_module": "@jupyter-widgets/controls",
      "model_module_version": "2.0.0",
      "model_name": "HTMLModel",
      "state": {
       "_dom_classes": [],
       "_model_module": "@jupyter-widgets/controls",
       "_model_module_version": "2.0.0",
       "_model_name": "HTMLModel",
       "_view_count": null,
       "_view_module": "@jupyter-widgets/controls",
       "_view_module_version": "2.0.0",
       "_view_name": "HTMLView",
       "description": "",
       "description_allow_html": false,
       "layout": "IPY_MODEL_2da26c048a414ceb9358c01799aa248b",
       "placeholder": "​",
       "style": "IPY_MODEL_5b98fd59368f45daaa07d8716d14f72b",
       "tabbable": null,
       "tooltip": null,
       "value": " 2.49M/2.49M [00:00&lt;00:00, 15.9MB/s]"
      }
     },
     "b1e91978034e4bfabeba07948dc178d1": {
      "model_module": "@jupyter-widgets/controls",
      "model_module_version": "2.0.0",
      "model_name": "HTMLStyleModel",
      "state": {
       "_model_module": "@jupyter-widgets/controls",
       "_model_module_version": "2.0.0",
       "_model_name": "HTMLStyleModel",
       "_view_count": null,
       "_view_module": "@jupyter-widgets/base",
       "_view_module_version": "2.0.0",
       "_view_name": "StyleView",
       "background": null,
       "description_width": "",
       "font_size": null,
       "text_color": null
      }
     },
     "bd835cc01b0b47cfad8386e5776341b6": {
      "model_module": "@jupyter-widgets/base",
      "model_module_version": "2.0.0",
      "model_name": "LayoutModel",
      "state": {
       "_model_module": "@jupyter-widgets/base",
       "_model_module_version": "2.0.0",
       "_model_name": "LayoutModel",
       "_view_count": null,
       "_view_module": "@jupyter-widgets/base",
       "_view_module_version": "2.0.0",
       "_view_name": "LayoutView",
       "align_content": null,
       "align_items": null,
       "align_self": null,
       "border_bottom": null,
       "border_left": null,
       "border_right": null,
       "border_top": null,
       "bottom": null,
       "display": null,
       "flex": null,
       "flex_flow": null,
       "grid_area": null,
       "grid_auto_columns": null,
       "grid_auto_flow": null,
       "grid_auto_rows": null,
       "grid_column": null,
       "grid_gap": null,
       "grid_row": null,
       "grid_template_areas": null,
       "grid_template_columns": null,
       "grid_template_rows": null,
       "height": null,
       "justify_content": null,
       "justify_items": null,
       "left": null,
       "margin": null,
       "max_height": null,
       "max_width": null,
       "min_height": null,
       "min_width": null,
       "object_fit": null,
       "object_position": null,
       "order": null,
       "overflow": null,
       "padding": null,
       "right": null,
       "top": null,
       "visibility": null,
       "width": null
      }
     },
     "c23324eff3e546eca60ff997ae422b3a": {
      "model_module": "@jupyter-widgets/base",
      "model_module_version": "2.0.0",
      "model_name": "LayoutModel",
      "state": {
       "_model_module": "@jupyter-widgets/base",
       "_model_module_version": "2.0.0",
       "_model_name": "LayoutModel",
       "_view_count": null,
       "_view_module": "@jupyter-widgets/base",
       "_view_module_version": "2.0.0",
       "_view_name": "LayoutView",
       "align_content": null,
       "align_items": null,
       "align_self": null,
       "border_bottom": null,
       "border_left": null,
       "border_right": null,
       "border_top": null,
       "bottom": null,
       "display": null,
       "flex": null,
       "flex_flow": null,
       "grid_area": null,
       "grid_auto_columns": null,
       "grid_auto_flow": null,
       "grid_auto_rows": null,
       "grid_column": null,
       "grid_gap": null,
       "grid_row": null,
       "grid_template_areas": null,
       "grid_template_columns": null,
       "grid_template_rows": null,
       "height": null,
       "justify_content": null,
       "justify_items": null,
       "left": null,
       "margin": null,
       "max_height": null,
       "max_width": null,
       "min_height": null,
       "min_width": null,
       "object_fit": null,
       "object_position": null,
       "order": null,
       "overflow": null,
       "padding": null,
       "right": null,
       "top": null,
       "visibility": null,
       "width": null
      }
     },
     "c338e8cbe04b408c95f83c41cb9df131": {
      "model_module": "@jupyter-widgets/controls",
      "model_module_version": "2.0.0",
      "model_name": "HTMLStyleModel",
      "state": {
       "_model_module": "@jupyter-widgets/controls",
       "_model_module_version": "2.0.0",
       "_model_name": "HTMLStyleModel",
       "_view_count": null,
       "_view_module": "@jupyter-widgets/base",
       "_view_module_version": "2.0.0",
       "_view_name": "StyleView",
       "background": null,
       "description_width": "",
       "font_size": null,
       "text_color": null
      }
     },
     "c421ccc28a754d149045494fb997cb68": {
      "model_module": "@jupyter-widgets/controls",
      "model_module_version": "2.0.0",
      "model_name": "HBoxModel",
      "state": {
       "_dom_classes": [],
       "_model_module": "@jupyter-widgets/controls",
       "_model_module_version": "2.0.0",
       "_model_name": "HBoxModel",
       "_view_count": null,
       "_view_module": "@jupyter-widgets/controls",
       "_view_module_version": "2.0.0",
       "_view_name": "HBoxView",
       "box_style": "",
       "children": [
        "IPY_MODEL_fda46010372e4e06b2b787d2a261d2bf",
        "IPY_MODEL_86ec8b14a38943f68cba342e2ae2d667",
        "IPY_MODEL_b029112633df494bae1274d6eb2c89b5"
       ],
       "layout": "IPY_MODEL_496554f147d14c6a961681be45f91aa0",
       "tabbable": null,
       "tooltip": null
      }
     },
     "c4885ecb9f7d432a8c3b503a5f0d1dfc": {
      "model_module": "@jupyter-widgets/base",
      "model_module_version": "2.0.0",
      "model_name": "LayoutModel",
      "state": {
       "_model_module": "@jupyter-widgets/base",
       "_model_module_version": "2.0.0",
       "_model_name": "LayoutModel",
       "_view_count": null,
       "_view_module": "@jupyter-widgets/base",
       "_view_module_version": "2.0.0",
       "_view_name": "LayoutView",
       "align_content": null,
       "align_items": null,
       "align_self": null,
       "border_bottom": null,
       "border_left": null,
       "border_right": null,
       "border_top": null,
       "bottom": null,
       "display": null,
       "flex": null,
       "flex_flow": null,
       "grid_area": null,
       "grid_auto_columns": null,
       "grid_auto_flow": null,
       "grid_auto_rows": null,
       "grid_column": null,
       "grid_gap": null,
       "grid_row": null,
       "grid_template_areas": null,
       "grid_template_columns": null,
       "grid_template_rows": null,
       "height": null,
       "justify_content": null,
       "justify_items": null,
       "left": null,
       "margin": null,
       "max_height": null,
       "max_width": null,
       "min_height": null,
       "min_width": null,
       "object_fit": null,
       "object_position": null,
       "order": null,
       "overflow": null,
       "padding": null,
       "right": null,
       "top": null,
       "visibility": null,
       "width": null
      }
     },
     "c52e9bb9d17843768bd27122b35cf4f6": {
      "model_module": "@jupyter-widgets/base",
      "model_module_version": "2.0.0",
      "model_name": "LayoutModel",
      "state": {
       "_model_module": "@jupyter-widgets/base",
       "_model_module_version": "2.0.0",
       "_model_name": "LayoutModel",
       "_view_count": null,
       "_view_module": "@jupyter-widgets/base",
       "_view_module_version": "2.0.0",
       "_view_name": "LayoutView",
       "align_content": null,
       "align_items": null,
       "align_self": null,
       "border_bottom": null,
       "border_left": null,
       "border_right": null,
       "border_top": null,
       "bottom": null,
       "display": null,
       "flex": null,
       "flex_flow": null,
       "grid_area": null,
       "grid_auto_columns": null,
       "grid_auto_flow": null,
       "grid_auto_rows": null,
       "grid_column": null,
       "grid_gap": null,
       "grid_row": null,
       "grid_template_areas": null,
       "grid_template_columns": null,
       "grid_template_rows": null,
       "height": null,
       "justify_content": null,
       "justify_items": null,
       "left": null,
       "margin": null,
       "max_height": null,
       "max_width": null,
       "min_height": null,
       "min_width": null,
       "object_fit": null,
       "object_position": null,
       "order": null,
       "overflow": null,
       "padding": null,
       "right": null,
       "top": null,
       "visibility": null,
       "width": null
      }
     },
     "c7cf31924c2249758c5fc41759ef3f99": {
      "model_module": "@jupyter-widgets/controls",
      "model_module_version": "2.0.0",
      "model_name": "HTMLModel",
      "state": {
       "_dom_classes": [],
       "_model_module": "@jupyter-widgets/controls",
       "_model_module_version": "2.0.0",
       "_model_name": "HTMLModel",
       "_view_count": null,
       "_view_module": "@jupyter-widgets/controls",
       "_view_module_version": "2.0.0",
       "_view_name": "HTMLView",
       "description": "",
       "description_allow_html": false,
       "layout": "IPY_MODEL_e074185e999f401486daf0226b0ca8d9",
       "placeholder": "​",
       "style": "IPY_MODEL_3f885be091c7469f81a027d8a920417b",
       "tabbable": null,
       "tooltip": null,
       "value": "merges.txt: 100%"
      }
     },
     "c8260da30cc0464bb48aef62c9d80b5c": {
      "model_module": "@jupyter-widgets/controls",
      "model_module_version": "2.0.0",
      "model_name": "HTMLStyleModel",
      "state": {
       "_model_module": "@jupyter-widgets/controls",
       "_model_module_version": "2.0.0",
       "_model_name": "HTMLStyleModel",
       "_view_count": null,
       "_view_module": "@jupyter-widgets/base",
       "_view_module_version": "2.0.0",
       "_view_name": "StyleView",
       "background": null,
       "description_width": "",
       "font_size": null,
       "text_color": null
      }
     },
     "ca934044117445a3bd1f1c206975143d": {
      "model_module": "@jupyter-widgets/base",
      "model_module_version": "2.0.0",
      "model_name": "LayoutModel",
      "state": {
       "_model_module": "@jupyter-widgets/base",
       "_model_module_version": "2.0.0",
       "_model_name": "LayoutModel",
       "_view_count": null,
       "_view_module": "@jupyter-widgets/base",
       "_view_module_version": "2.0.0",
       "_view_name": "LayoutView",
       "align_content": null,
       "align_items": null,
       "align_self": null,
       "border_bottom": null,
       "border_left": null,
       "border_right": null,
       "border_top": null,
       "bottom": null,
       "display": null,
       "flex": null,
       "flex_flow": null,
       "grid_area": null,
       "grid_auto_columns": null,
       "grid_auto_flow": null,
       "grid_auto_rows": null,
       "grid_column": null,
       "grid_gap": null,
       "grid_row": null,
       "grid_template_areas": null,
       "grid_template_columns": null,
       "grid_template_rows": null,
       "height": null,
       "justify_content": null,
       "justify_items": null,
       "left": null,
       "margin": null,
       "max_height": null,
       "max_width": null,
       "min_height": null,
       "min_width": null,
       "object_fit": null,
       "object_position": null,
       "order": null,
       "overflow": null,
       "padding": null,
       "right": null,
       "top": null,
       "visibility": null,
       "width": null
      }
     },
     "d04ff6d18a3d434e9f32ec90c03755dd": {
      "model_module": "@jupyter-widgets/controls",
      "model_module_version": "2.0.0",
      "model_name": "HBoxModel",
      "state": {
       "_dom_classes": [],
       "_model_module": "@jupyter-widgets/controls",
       "_model_module_version": "2.0.0",
       "_model_name": "HBoxModel",
       "_view_count": null,
       "_view_module": "@jupyter-widgets/controls",
       "_view_module_version": "2.0.0",
       "_view_name": "HBoxView",
       "box_style": "",
       "children": [
        "IPY_MODEL_9eb33dea023d4c8fb4f80f686c812292",
        "IPY_MODEL_0b2bcd86f6e5452680b2a0302ffa7b04",
        "IPY_MODEL_0131307127af4448ad6bf6a0a214c540"
       ],
       "layout": "IPY_MODEL_c4885ecb9f7d432a8c3b503a5f0d1dfc",
       "tabbable": null,
       "tooltip": null
      }
     },
     "d69e57384bba4aed9b71068803d65613": {
      "model_module": "@jupyter-widgets/base",
      "model_module_version": "2.0.0",
      "model_name": "LayoutModel",
      "state": {
       "_model_module": "@jupyter-widgets/base",
       "_model_module_version": "2.0.0",
       "_model_name": "LayoutModel",
       "_view_count": null,
       "_view_module": "@jupyter-widgets/base",
       "_view_module_version": "2.0.0",
       "_view_name": "LayoutView",
       "align_content": null,
       "align_items": null,
       "align_self": null,
       "border_bottom": null,
       "border_left": null,
       "border_right": null,
       "border_top": null,
       "bottom": null,
       "display": null,
       "flex": null,
       "flex_flow": null,
       "grid_area": null,
       "grid_auto_columns": null,
       "grid_auto_flow": null,
       "grid_auto_rows": null,
       "grid_column": null,
       "grid_gap": null,
       "grid_row": null,
       "grid_template_areas": null,
       "grid_template_columns": null,
       "grid_template_rows": null,
       "height": null,
       "justify_content": null,
       "justify_items": null,
       "left": null,
       "margin": null,
       "max_height": null,
       "max_width": null,
       "min_height": null,
       "min_width": null,
       "object_fit": null,
       "object_position": null,
       "order": null,
       "overflow": null,
       "padding": null,
       "right": null,
       "top": null,
       "visibility": null,
       "width": null
      }
     },
     "d70f5f87f6ee4223aa8991df9ce592d2": {
      "model_module": "@jupyter-widgets/controls",
      "model_module_version": "2.0.0",
      "model_name": "HTMLModel",
      "state": {
       "_dom_classes": [],
       "_model_module": "@jupyter-widgets/controls",
       "_model_module_version": "2.0.0",
       "_model_name": "HTMLModel",
       "_view_count": null,
       "_view_module": "@jupyter-widgets/controls",
       "_view_module_version": "2.0.0",
       "_view_name": "HTMLView",
       "description": "",
       "description_allow_html": false,
       "layout": "IPY_MODEL_d69e57384bba4aed9b71068803d65613",
       "placeholder": "​",
       "style": "IPY_MODEL_516a2a44f7464a3f8537190764dcfdd5",
       "tabbable": null,
       "tooltip": null,
       "value": "model.safetensors: 100%"
      }
     },
     "de7a55e407a24b6ba3762875723af5ef": {
      "model_module": "@jupyter-widgets/controls",
      "model_module_version": "2.0.0",
      "model_name": "ProgressStyleModel",
      "state": {
       "_model_module": "@jupyter-widgets/controls",
       "_model_module_version": "2.0.0",
       "_model_name": "ProgressStyleModel",
       "_view_count": null,
       "_view_module": "@jupyter-widgets/base",
       "_view_module_version": "2.0.0",
       "_view_name": "StyleView",
       "bar_color": null,
       "description_width": ""
      }
     },
     "df3360701ec448dbb8b4bfd70471ec90": {
      "model_module": "@jupyter-widgets/controls",
      "model_module_version": "2.0.0",
      "model_name": "FloatProgressModel",
      "state": {
       "_dom_classes": [],
       "_model_module": "@jupyter-widgets/controls",
       "_model_module_version": "2.0.0",
       "_model_name": "FloatProgressModel",
       "_view_count": null,
       "_view_module": "@jupyter-widgets/controls",
       "_view_module_version": "2.0.0",
       "_view_name": "ProgressView",
       "bar_style": "success",
       "description": "",
       "description_allow_html": false,
       "layout": "IPY_MODEL_46c47009fff24bc3bb355de35e7151d1",
       "max": 5986394,
       "min": 0,
       "orientation": "horizontal",
       "style": "IPY_MODEL_e39c37d757a44361b2404390e8ad0563",
       "tabbable": null,
       "tooltip": null,
       "value": 5986394
      }
     },
     "e074185e999f401486daf0226b0ca8d9": {
      "model_module": "@jupyter-widgets/base",
      "model_module_version": "2.0.0",
      "model_name": "LayoutModel",
      "state": {
       "_model_module": "@jupyter-widgets/base",
       "_model_module_version": "2.0.0",
       "_model_name": "LayoutModel",
       "_view_count": null,
       "_view_module": "@jupyter-widgets/base",
       "_view_module_version": "2.0.0",
       "_view_name": "LayoutView",
       "align_content": null,
       "align_items": null,
       "align_self": null,
       "border_bottom": null,
       "border_left": null,
       "border_right": null,
       "border_top": null,
       "bottom": null,
       "display": null,
       "flex": null,
       "flex_flow": null,
       "grid_area": null,
       "grid_auto_columns": null,
       "grid_auto_flow": null,
       "grid_auto_rows": null,
       "grid_column": null,
       "grid_gap": null,
       "grid_row": null,
       "grid_template_areas": null,
       "grid_template_columns": null,
       "grid_template_rows": null,
       "height": null,
       "justify_content": null,
       "justify_items": null,
       "left": null,
       "margin": null,
       "max_height": null,
       "max_width": null,
       "min_height": null,
       "min_width": null,
       "object_fit": null,
       "object_position": null,
       "order": null,
       "overflow": null,
       "padding": null,
       "right": null,
       "top": null,
       "visibility": null,
       "width": null
      }
     },
     "e39c37d757a44361b2404390e8ad0563": {
      "model_module": "@jupyter-widgets/controls",
      "model_module_version": "2.0.0",
      "model_name": "ProgressStyleModel",
      "state": {
       "_model_module": "@jupyter-widgets/controls",
       "_model_module_version": "2.0.0",
       "_model_name": "ProgressStyleModel",
       "_view_count": null,
       "_view_module": "@jupyter-widgets/base",
       "_view_module_version": "2.0.0",
       "_view_name": "StyleView",
       "bar_color": null,
       "description_width": ""
      }
     },
     "e500112e941b412787c98fabe47a8133": {
      "model_module": "@jupyter-widgets/base",
      "model_module_version": "2.0.0",
      "model_name": "LayoutModel",
      "state": {
       "_model_module": "@jupyter-widgets/base",
       "_model_module_version": "2.0.0",
       "_model_name": "LayoutModel",
       "_view_count": null,
       "_view_module": "@jupyter-widgets/base",
       "_view_module_version": "2.0.0",
       "_view_name": "LayoutView",
       "align_content": null,
       "align_items": null,
       "align_self": null,
       "border_bottom": null,
       "border_left": null,
       "border_right": null,
       "border_top": null,
       "bottom": null,
       "display": null,
       "flex": null,
       "flex_flow": null,
       "grid_area": null,
       "grid_auto_columns": null,
       "grid_auto_flow": null,
       "grid_auto_rows": null,
       "grid_column": null,
       "grid_gap": null,
       "grid_row": null,
       "grid_template_areas": null,
       "grid_template_columns": null,
       "grid_template_rows": null,
       "height": null,
       "justify_content": null,
       "justify_items": null,
       "left": null,
       "margin": null,
       "max_height": null,
       "max_width": null,
       "min_height": null,
       "min_width": null,
       "object_fit": null,
       "object_position": null,
       "order": null,
       "overflow": null,
       "padding": null,
       "right": null,
       "top": null,
       "visibility": null,
       "width": null
      }
     },
     "e69e96bf7d6b4b1aba8747ff0f140e5b": {
      "model_module": "@jupyter-widgets/controls",
      "model_module_version": "2.0.0",
      "model_name": "ProgressStyleModel",
      "state": {
       "_model_module": "@jupyter-widgets/controls",
       "_model_module_version": "2.0.0",
       "_model_name": "ProgressStyleModel",
       "_view_count": null,
       "_view_module": "@jupyter-widgets/base",
       "_view_module_version": "2.0.0",
       "_view_name": "StyleView",
       "bar_color": null,
       "description_width": ""
      }
     },
     "e93c5c47d74942ada47074979cebff2a": {
      "model_module": "@jupyter-widgets/controls",
      "model_module_version": "2.0.0",
      "model_name": "ProgressStyleModel",
      "state": {
       "_model_module": "@jupyter-widgets/controls",
       "_model_module_version": "2.0.0",
       "_model_name": "ProgressStyleModel",
       "_view_count": null,
       "_view_module": "@jupyter-widgets/base",
       "_view_module_version": "2.0.0",
       "_view_name": "StyleView",
       "bar_color": null,
       "description_width": ""
      }
     },
     "eaceee995cf04f67ab2403b10543a49b": {
      "model_module": "@jupyter-widgets/controls",
      "model_module_version": "2.0.0",
      "model_name": "HTMLModel",
      "state": {
       "_dom_classes": [],
       "_model_module": "@jupyter-widgets/controls",
       "_model_module_version": "2.0.0",
       "_model_name": "HTMLModel",
       "_view_count": null,
       "_view_module": "@jupyter-widgets/controls",
       "_view_module_version": "2.0.0",
       "_view_name": "HTMLView",
       "description": "",
       "description_allow_html": false,
       "layout": "IPY_MODEL_aa5c7003bb6044b1b13965fe01759c5d",
       "placeholder": "​",
       "style": "IPY_MODEL_c8260da30cc0464bb48aef62c9d80b5c",
       "tabbable": null,
       "tooltip": null,
       "value": " 5.99M/5.99M [00:00&lt;00:00, 35.9MB/s]"
      }
     },
     "fd70d6c7a5fb46afb3c465ad57ff670e": {
      "model_module": "@jupyter-widgets/base",
      "model_module_version": "2.0.0",
      "model_name": "LayoutModel",
      "state": {
       "_model_module": "@jupyter-widgets/base",
       "_model_module_version": "2.0.0",
       "_model_name": "LayoutModel",
       "_view_count": null,
       "_view_module": "@jupyter-widgets/base",
       "_view_module_version": "2.0.0",
       "_view_name": "LayoutView",
       "align_content": null,
       "align_items": null,
       "align_self": null,
       "border_bottom": null,
       "border_left": null,
       "border_right": null,
       "border_top": null,
       "bottom": null,
       "display": null,
       "flex": null,
       "flex_flow": null,
       "grid_area": null,
       "grid_auto_columns": null,
       "grid_auto_flow": null,
       "grid_auto_rows": null,
       "grid_column": null,
       "grid_gap": null,
       "grid_row": null,
       "grid_template_areas": null,
       "grid_template_columns": null,
       "grid_template_rows": null,
       "height": null,
       "justify_content": null,
       "justify_items": null,
       "left": null,
       "margin": null,
       "max_height": null,
       "max_width": null,
       "min_height": null,
       "min_width": null,
       "object_fit": null,
       "object_position": null,
       "order": null,
       "overflow": null,
       "padding": null,
       "right": null,
       "top": null,
       "visibility": null,
       "width": null
      }
     },
     "fda46010372e4e06b2b787d2a261d2bf": {
      "model_module": "@jupyter-widgets/controls",
      "model_module_version": "2.0.0",
      "model_name": "HTMLModel",
      "state": {
       "_dom_classes": [],
       "_model_module": "@jupyter-widgets/controls",
       "_model_module_version": "2.0.0",
       "_model_name": "HTMLModel",
       "_view_count": null,
       "_view_module": "@jupyter-widgets/controls",
       "_view_module_version": "2.0.0",
       "_view_name": "HTMLView",
       "description": "",
       "description_allow_html": false,
       "layout": "IPY_MODEL_9b21317694574fe9ba7498777f94bc43",
       "placeholder": "​",
       "style": "IPY_MODEL_b1e91978034e4bfabeba07948dc178d1",
       "tabbable": null,
       "tooltip": null,
       "value": "vocab.json: 100%"
      }
     },
     "ff8e897f94a942b69f3b7f88e47ddb9e": {
      "model_module": "@jupyter-widgets/controls",
      "model_module_version": "2.0.0",
      "model_name": "FloatProgressModel",
      "state": {
       "_dom_classes": [],
       "_model_module": "@jupyter-widgets/controls",
       "_model_module_version": "2.0.0",
       "_model_name": "FloatProgressModel",
       "_view_count": null,
       "_view_module": "@jupyter-widgets/controls",
       "_view_module_version": "2.0.0",
       "_view_name": "ProgressView",
       "bar_style": "success",
       "description": "",
       "description_allow_html": false,
       "layout": "IPY_MODEL_a20ad418ac664aa8acab0f28ae9d74c1",
       "max": 715,
       "min": 0,
       "orientation": "horizontal",
       "style": "IPY_MODEL_55dc548e38014d059bb44690da5b56f9",
       "tabbable": null,
       "tooltip": null,
       "value": 715
      }
     }
    },
    "version_major": 2,
    "version_minor": 0
   }
  }
 },
 "nbformat": 4,
 "nbformat_minor": 5
}
